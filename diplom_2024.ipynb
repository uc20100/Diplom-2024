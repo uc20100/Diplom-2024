{
 "cells": [
  {
   "cell_type": "markdown",
   "id": "45a88c38-d8ca-426c-845b-5f3f17d0816c",
   "metadata": {},
   "source": [
    "# Диплом 2024"
   ]
  },
  {
   "cell_type": "markdown",
   "id": "cd65ab42-0840-4799-9ec1-ca3b9a524115",
   "metadata": {},
   "source": [
    "### Содержание:\n",
    "- [Установка необходимых пакетов, если они не установлены](#inst_)\n",
    "- [Импорт библиотек](#libr_)\n",
    "- [Загрузка датасетов](#load_data_)\n",
    "  - [Описание данных](#description)\n",
    "- [Разведочный анализ даных (EDA)](#eda)\n",
    "  - [Посмотрим типы данных](#dtypes)\n",
    "  - [Посмотрим пропуски данных](#pass)\n",
    "  - [Посмотри статистику по датафрейму](#statistics)\n",
    "  - [Визуализируем данные](#visual)\n",
    "    - [Выделим численные признаки от остальных](#num_and_char)\n",
    "    - [Создадим словарь признаков и их русский перевод](#translate)\n",
    "    - [Визуализируем распределение числовых признаков](#num_visual)\n",
    "    - [Визуализируем распределение строковых признаков](#char_visual)\n",
    "- [Предобработка признаков](#predobrabotka)\n",
    "  - [Посмотрим какие признаки имеют выбросы](#vibros)\n",
    "  - [Признак 'HouseYear'](#house_year)\n",
    "  - [Признак 'Rooms'](#rooms)\n",
    "  - [Признак 'KitchenSquare'](#kitchen_square)\n",
    "  - [Признаки 'Square' и 'LifeSquare'](#square_life_square)\n",
    "  - [Признаки 'HouseFloor' и 'Floor'](#floor_house_floor)\n",
    "  - [Признак 'Healthcare_1'](#healthcare_1)\n",
    "  - [Изменим тип признаков](#type_f)\n",
    "  - [Ещё раз посмотрим скорректированные данные](#cor_data)\n",
    "- [Создание класса подготовки данных](#create_class)\n",
    "- [Построение новых признаков](#new_feature)\n",
    "  - [DistrictSize, IsDistrictLarge (размеры районов)](#district_size)\n",
    "  - [MedPriceDistrict (медиана цены квартиры в зависимости от района и количества комнат)](#med_price_district)\n",
    "  - [MedPriceByFloorYear (средняя цена квартиры в зависимости от этажа и года постройки дома)](#med_price_by_floor_year)\n",
    "- [Создание класса новых признаков](#create_class_2)\n",
    "- [Создание модели](#create_model)\n",
    "  - [Проверим модель без генерации новых фич](#model_1)\n",
    "  - [Проверим модель с генерацией новых фич](#model_2)\n",
    "- [Прогнозирование на тестовом датасете](#prognoz)\n",
    "- [Вывод](#vivod)"
   ]
  },
  {
   "cell_type": "markdown",
   "id": "523bcc93-a025-4720-8eff-561ef89ff540",
   "metadata": {
    "jp-MarkdownHeadingCollapsed": true
   },
   "source": [
    "### Установка пакетов если они не установлены <a class='anchor' id='inst_'>"
   ]
  },
  {
   "cell_type": "code",
   "execution_count": 8,
   "id": "1939102d-f921-45c8-ae78-225a735a2d67",
   "metadata": {
    "tags": []
   },
   "outputs": [],
   "source": [
    "# Для кождого проекта я использую новое окружение, \n",
    "# думаю это помогает избежать ошибок связанных с версиями пакетов\n",
    "# !pip install pandas\n",
    "# !pip install matplotlib\n",
    "# !pip install seaborn\n",
    "# !pip install numpy\n",
    "# !pip install scikit-learn\n",
    "# !pip install openpyxl"
   ]
  },
  {
   "cell_type": "markdown",
   "id": "eb8c4f62-3c6a-4bdc-81c4-359bcc243b3b",
   "metadata": {
    "jp-MarkdownHeadingCollapsed": true
   },
   "source": [
    "### Импортируем библиотеки <a class='anchor' id='libr_'>"
   ]
  },
  {
   "cell_type": "code",
   "execution_count": 11,
   "id": "e3d67331-43ea-41cc-83ee-dddc2baa90e5",
   "metadata": {},
   "outputs": [],
   "source": [
    "# Импортируем необходимые библиотеки\n",
    "import numpy as np\n",
    "import pandas as pd\n",
    "from matplotlib import pyplot as plt\n",
    "import seaborn as sns\n",
    "# Следующая магическая команда Jupyter Notebook нужна для того, чтобы графики\n",
    "# отображались прямо в ноутбуке, а не в отдельном окне\n",
    "%matplotlib inline\n",
    "\n",
    "# Настройка более четкого отображения графиков\n",
    "%config InlineBackend.figure_format = 'svg'\n",
    "\n",
    "# Модуль для зазбиения выборки на тренировочнию и тестовую\n",
    "from sklearn.model_selection import train_test_split\n",
    "\n",
    "# Уберем warnings\n",
    "import warnings\n",
    "warnings.filterwarnings('ignore')\n",
    "\n",
    "# Настройка формата вывода чисел float\n",
    "pd.set_option('display.float_format', '{:.2f}'.format)\n",
    "\n",
    "# Вычисление Z-score\n",
    "from scipy import stats\n",
    "from sklearn.preprocessing import LabelEncoder\n",
    "from scipy.stats.mstats import winsorize\n",
    "\n",
    "# Дата и время\n",
    "from datetime import datetime\n",
    "\n",
    "# Случайные числа\n",
    "import random as rnd\n",
    "\n",
    "# Алгоритм машинного обучения 'Метод случайного леса'\n",
    "from sklearn.ensemble import RandomForestRegressor\n",
    "\n",
    "# Кросс-валидация \n",
    "from sklearn.model_selection import cross_validate\n",
    "\n",
    "# Разбиение\n",
    "from sklearn.model_selection import KFold\n",
    "\n",
    "# Метрика r2\n",
    "from sklearn.metrics import r2_score\n",
    "\n",
    "# Пути файловой системы\n",
    "from pathlib import Path"
   ]
  },
  {
   "cell_type": "markdown",
   "id": "a7b98e55-ea20-44eb-879b-5c4a89bed42b",
   "metadata": {},
   "source": [
    "### Загружаем данные <a class='anchor' id='load_data_'>"
   ]
  },
  {
   "cell_type": "markdown",
   "id": "8ee939c2-24ea-4f6e-896e-99368dc6397a",
   "metadata": {},
   "source": [
    "Описание данных <a class='anchor' id='description'>\n",
    "- **Id** - идентификационный номер квартиры;\n",
    "- **DistrictId** - идентификационный номер района;\n",
    "- **Rooms** - количество комнат;\n",
    "- **Square** - площадь;\n",
    "- **LifeSquare** - жилая площадь;\n",
    "- **KitchenSquare** - площадь кухни;\n",
    "- **Floor** - этаж;\n",
    "- **HouseFloor** - количество этажей в доме;\n",
    "- **HouseYear** - год постройки дома;\n",
    "- **Ecology_1**, **Ecology_2**, **Ecology_3** - экологические показатели месности;\n",
    "- **Social_1**, **Social_2**, **Social_3** - социальные показатели месности;\n",
    "- **Healtcare_1**, **Heltcare_2** - показатели месности, связанные с охраной здоровья;\n",
    "- **Shops_1**, **Shops_2** - показатели связанные с наличием магазинов, торговых центров;\n",
    "- **Price** - цена квартиры."
   ]
  },
  {
   "cell_type": "code",
   "execution_count": 47,
   "id": "b9fc94f9-782b-48a2-8df1-d9885a99fe3f",
   "metadata": {},
   "outputs": [
    {
     "name": "stdout",
     "output_type": "stream",
     "text": [
      "Обработан eur_rub-(банк-россии).xlsx\n",
      "Обработан gbp_rub-(банк-россии).xlsx\n",
      "Обработан jpy_rub-(банк-россии).xlsx\n",
      "Обработан s-p-500.xlsx\n",
      "Обработан usd_rub-(банк-россии).xlsx\n",
      "Мало строк бивалютная-корзина_rub.xlsx\n",
      "Обработан золото-(банк-россии).xlsx\n",
      "Обработан индекс-мосбиржи.xlsx\n",
      "Мало строк китайский-юань---российский-рубль-cny_rub-(банк-россии).xlsx\n",
      "Обработан нефть-brent.xlsx\n",
      "Обработан палладий-(банк-россии).xlsx\n",
      "Обработан платина-(банк-россии).xlsx\n",
      "Обработан ртс.xlsx\n",
      "Обработан серебро-(банк-россии).xlsx\n"
     ]
    }
   ],
   "source": [
    "# Расположение данных\n",
    "PATH_DATASET = './Dataset'\n",
    "# Минимальное количество строк в датасете\n",
    "MIN_ROW = 6000\n",
    "\n",
    "\n",
    "df = pd.DataFrame()\n",
    "\n",
    "p = Path(Path.cwd() / PATH_DATASET)\n",
    "count = 0\n",
    "for obj in p.iterdir():\n",
    "    if obj.is_file():\n",
    "        *_, name_file_all = str(obj).split('\\\\')\n",
    "        name_file, type_file = name_file_all.split('.')\n",
    "        if type_file == 'xlsx':\n",
    "            df_temp = pd.read_excel(f'{PATH_DATASET}/{name_file_all}')\n",
    "            if df.shape[1]:\n",
    "                if df_temp.shape[0] >= MIN_ROW:\n",
    "                    # Переименуем стобцы\n",
    "                    df_temp.rename(columns={'Значение': f'{name_file}'}, inplace=True)\n",
    "                    df = pd.merge(df, df_temp, on='Дата', how='inner')\n",
    "                    print(f'Обработан {name_file_all}')\n",
    "                else:\n",
    "                    print(f'Мало строк {name_file_all}')\n",
    "            else:\n",
    "                df = df_temp"
   ]
  },
  {
   "cell_type": "code",
   "execution_count": 49,
   "id": "2ea17042-68d5-44a4-80f9-757cecb524b8",
   "metadata": {},
   "outputs": [
    {
     "data": {
      "text/html": [
       "<div>\n",
       "<style scoped>\n",
       "    .dataframe tbody tr th:only-of-type {\n",
       "        vertical-align: middle;\n",
       "    }\n",
       "\n",
       "    .dataframe tbody tr th {\n",
       "        vertical-align: top;\n",
       "    }\n",
       "\n",
       "    .dataframe thead th {\n",
       "        text-align: right;\n",
       "    }\n",
       "</style>\n",
       "<table border=\"1\" class=\"dataframe\">\n",
       "  <thead>\n",
       "    <tr style=\"text-align: right;\">\n",
       "      <th></th>\n",
       "      <th>Дата</th>\n",
       "      <th>Значение</th>\n",
       "      <th>eur_rub-(банк-россии)</th>\n",
       "      <th>gbp_rub-(банк-россии)</th>\n",
       "      <th>jpy_rub-(банк-россии)</th>\n",
       "      <th>s-p-500</th>\n",
       "      <th>usd_rub-(банк-россии)</th>\n",
       "      <th>золото-(банк-россии)</th>\n",
       "      <th>индекс-мосбиржи</th>\n",
       "      <th>нефть-brent</th>\n",
       "      <th>палладий-(банк-россии)</th>\n",
       "      <th>платина-(банк-россии)</th>\n",
       "      <th>ртс</th>\n",
       "      <th>серебро-(банк-россии)</th>\n",
       "    </tr>\n",
       "  </thead>\n",
       "  <tbody>\n",
       "    <tr>\n",
       "      <th>0</th>\n",
       "      <td>2024-07-09</td>\n",
       "      <td>98.46</td>\n",
       "      <td>95.66</td>\n",
       "      <td>112.84</td>\n",
       "      <td>0.55</td>\n",
       "      <td>5576.98</td>\n",
       "      <td>88.17</td>\n",
       "      <td>6743.87</td>\n",
       "      <td>3054.07</td>\n",
       "      <td>84.66</td>\n",
       "      <td>2908.39</td>\n",
       "      <td>2899.89</td>\n",
       "      <td>1093.26</td>\n",
       "      <td>86.68</td>\n",
       "    </tr>\n",
       "    <tr>\n",
       "      <th>1</th>\n",
       "      <td>2024-07-08</td>\n",
       "      <td>98.11</td>\n",
       "      <td>95.57</td>\n",
       "      <td>112.48</td>\n",
       "      <td>0.55</td>\n",
       "      <td>5572.85</td>\n",
       "      <td>88.13</td>\n",
       "      <td>6683.46</td>\n",
       "      <td>3132.58</td>\n",
       "      <td>85.64</td>\n",
       "      <td>2904.44</td>\n",
       "      <td>2867.60</td>\n",
       "      <td>1119.25</td>\n",
       "      <td>85.96</td>\n",
       "    </tr>\n",
       "    <tr>\n",
       "      <th>2</th>\n",
       "      <td>2024-07-05</td>\n",
       "      <td>97.77</td>\n",
       "      <td>94.98</td>\n",
       "      <td>112.46</td>\n",
       "      <td>0.55</td>\n",
       "      <td>5567.19</td>\n",
       "      <td>88.12</td>\n",
       "      <td>6690.03</td>\n",
       "      <td>3149.29</td>\n",
       "      <td>86.97</td>\n",
       "      <td>2954.96</td>\n",
       "      <td>2835.97</td>\n",
       "      <td>1125.66</td>\n",
       "      <td>85.36</td>\n",
       "    </tr>\n",
       "    <tr>\n",
       "      <th>3</th>\n",
       "      <td>2024-07-03</td>\n",
       "      <td>97.33</td>\n",
       "      <td>93.69</td>\n",
       "      <td>111.28</td>\n",
       "      <td>0.54</td>\n",
       "      <td>5537.02</td>\n",
       "      <td>87.99</td>\n",
       "      <td>6589.05</td>\n",
       "      <td>3203.07</td>\n",
       "      <td>86.63</td>\n",
       "      <td>2795.06</td>\n",
       "      <td>2786.57</td>\n",
       "      <td>1147.28</td>\n",
       "      <td>82.73</td>\n",
       "    </tr>\n",
       "    <tr>\n",
       "      <th>4</th>\n",
       "      <td>2024-07-02</td>\n",
       "      <td>96.98</td>\n",
       "      <td>93.96</td>\n",
       "      <td>110.36</td>\n",
       "      <td>0.54</td>\n",
       "      <td>5509.01</td>\n",
       "      <td>87.30</td>\n",
       "      <td>6542.06</td>\n",
       "      <td>3217.29</td>\n",
       "      <td>86.24</td>\n",
       "      <td>2728.08</td>\n",
       "      <td>2840.35</td>\n",
       "      <td>1151.82</td>\n",
       "      <td>82.43</td>\n",
       "    </tr>\n",
       "  </tbody>\n",
       "</table>\n",
       "</div>"
      ],
      "text/plain": [
       "        Дата  Значение  eur_rub-(банк-россии)  gbp_rub-(банк-россии)  \\\n",
       "0 2024-07-09     98.46                  95.66                 112.84   \n",
       "1 2024-07-08     98.11                  95.57                 112.48   \n",
       "2 2024-07-05     97.77                  94.98                 112.46   \n",
       "3 2024-07-03     97.33                  93.69                 111.28   \n",
       "4 2024-07-02     96.98                  93.96                 110.36   \n",
       "\n",
       "   jpy_rub-(банк-россии)  s-p-500  usd_rub-(банк-россии)  \\\n",
       "0                   0.55  5576.98                  88.17   \n",
       "1                   0.55  5572.85                  88.13   \n",
       "2                   0.55  5567.19                  88.12   \n",
       "3                   0.54  5537.02                  87.99   \n",
       "4                   0.54  5509.01                  87.30   \n",
       "\n",
       "   золото-(банк-россии)  индекс-мосбиржи  нефть-brent  палладий-(банк-россии)  \\\n",
       "0               6743.87          3054.07        84.66                 2908.39   \n",
       "1               6683.46          3132.58        85.64                 2904.44   \n",
       "2               6690.03          3149.29        86.97                 2954.96   \n",
       "3               6589.05          3203.07        86.63                 2795.06   \n",
       "4               6542.06          3217.29        86.24                 2728.08   \n",
       "\n",
       "   платина-(банк-россии)     ртс  серебро-(банк-россии)  \n",
       "0                2899.89 1093.26                  86.68  \n",
       "1                2867.60 1119.25                  85.96  \n",
       "2                2835.97 1125.66                  85.36  \n",
       "3                2786.57 1147.28                  82.73  \n",
       "4                2840.35 1151.82                  82.43  "
      ]
     },
     "execution_count": 49,
     "metadata": {},
     "output_type": "execute_result"
    }
   ],
   "source": [
    "# Посмотрим, что загрузилось\n",
    "df.head()"
   ]
  },
  {
   "cell_type": "code",
   "execution_count": 50,
   "id": "407b5b44-55cf-4446-8054-079c3fbc5a1e",
   "metadata": {},
   "outputs": [
    {
     "data": {
      "text/plain": [
       "(4842, 14)"
      ]
     },
     "execution_count": 50,
     "metadata": {},
     "output_type": "execute_result"
    }
   ],
   "source": [
    "# Посмотрим размер\n",
    "df.shape"
   ]
  },
  {
   "attachments": {},
   "cell_type": "markdown",
   "id": "4b42b818-fc41-4653-9da8-4df4a406bc58",
   "metadata": {},
   "source": [
    "### Разведочный анализ даных (EDA) <a class='anchor' id='eda'>"
   ]
  },
  {
   "cell_type": "markdown",
   "id": "5628bff0-6c79-4610-93c0-00fb3c89a81e",
   "metadata": {},
   "source": [
    "#### Посмотрим типы данных <a class='anchor' id='dtypes'>"
   ]
  },
  {
   "cell_type": "code",
   "execution_count": null,
   "id": "1cd36be3-ba95-4465-b472-0db29590cfeb",
   "metadata": {},
   "outputs": [],
   "source": [
    "train_data.dtypes"
   ]
  },
  {
   "cell_type": "markdown",
   "id": "95bbe35b-015e-4bb0-a674-87cecc7d4ebb",
   "metadata": {},
   "source": [
    "#### Посмотрим пропуски данных <a class='anchor' id='pass'>"
   ]
  },
  {
   "cell_type": "code",
   "execution_count": null,
   "id": "e54bc9bb-07ef-4bac-a0ca-f37ff47e8dd7",
   "metadata": {},
   "outputs": [],
   "source": [
    "# Настроим pd, чтобы выводились все строки \n",
    "pd.set_option('display.max_rows', None)\n",
    "# Проверка того, в каких столбцах отсутствуют значения\n",
    "print(train_data.isnull().sum(axis=0))\n",
    "# Сбросим настройки вывода строк\n",
    "pd.reset_option('display.max_rows')"
   ]
  },
  {
   "cell_type": "markdown",
   "id": "6b30ae5f-68c2-46b4-bcaf-158eb86be3c7",
   "metadata": {},
   "source": [
    "#### Посмотри статистику по датафрейму <a class='anchor' id='statistics'>"
   ]
  },
  {
   "cell_type": "code",
   "execution_count": null,
   "id": "c2f6f80b-7a2d-4c45-9abc-2e8ddf4b3429",
   "metadata": {},
   "outputs": [],
   "source": [
    "train_data.describe()"
   ]
  },
  {
   "cell_type": "markdown",
   "id": "eed5b88a-7247-45c9-a082-da48e5c148db",
   "metadata": {},
   "source": [
    "### Визуализируем данные <a class='anchor' id='visual'>"
   ]
  },
  {
   "cell_type": "markdown",
   "id": "bcffc56b-938f-4a88-81da-f64dc42f7f9d",
   "metadata": {},
   "source": [
    "#### Выделим численные признаки от остальных <a class='anchor' id='num_and_char'>"
   ]
  },
  {
   "cell_type": "code",
   "execution_count": null,
   "id": "2db16676-7744-40f7-bba6-f4257bd94927",
   "metadata": {},
   "outputs": [],
   "source": [
    "def numeric_and_string_attributes(df):\n",
    "    '''\n",
    "    Функция разделяет числовые и строковые признаки.\n",
    "\n",
    "    :param df: исследуемый датафрейм,\n",
    "    :return: num_cols - список числовых признаков, str_cols - список строковых признаков.\n",
    "    '''\n",
    "    # Числовые признаки\n",
    "    num_cols = []\n",
    "    # Строковые признаки\n",
    "    str_cols = []\n",
    "    \n",
    "    cols_and_type = df.dtypes.to_dict()\n",
    "    \n",
    "    for col in cols_and_type:\n",
    "        if cols_and_type[col] in ('int64', 'float64'):\n",
    "            num_cols.append(col)\n",
    "        else: \n",
    "            str_cols.append(col)\n",
    "\n",
    "    return num_cols, str_cols"
   ]
  },
  {
   "cell_type": "code",
   "execution_count": null,
   "id": "306f5a58-2a21-44d2-baef-e765b40ce77e",
   "metadata": {},
   "outputs": [],
   "source": [
    "# Разделим числовые и строковые признаки\n",
    "num_cols, str_cols = numeric_and_string_attributes(train_data)\n",
    "# Выведем числовые признаки\n",
    "print(num_cols)"
   ]
  },
  {
   "cell_type": "code",
   "execution_count": null,
   "id": "e53a0391-5a63-4ca9-93a2-ab9db3b21dfb",
   "metadata": {},
   "outputs": [],
   "source": [
    "# Выведем строковые признаки\n",
    "print(str_cols)"
   ]
  },
  {
   "cell_type": "markdown",
   "id": "0523ccd0-10b5-46a5-83d1-94f0f83f42fb",
   "metadata": {},
   "source": [
    "#### Создадим словарь признаков и их русский перевод <a class='anchor' id='translate'>"
   ]
  },
  {
   "cell_type": "code",
   "execution_count": null,
   "id": "5c391504-1c91-4dea-90fb-6e6d811e1b69",
   "metadata": {},
   "outputs": [],
   "source": [
    "# Словарь признаков и их русский перевод\n",
    "translate_col = {\n",
    "    'Id': 'идентификационный номер квартиры',\n",
    "    'DistrictId': 'идентификационный номер района',\n",
    "    'Rooms': 'количество комнат',\n",
    "    'Square': 'площадь',\n",
    "    'LifeSquare': 'жилая площадь',\n",
    "    'KitchenSquare': 'площадь кухни',\n",
    "    'Floor': 'этаж',\n",
    "    'HouseFloor': 'количество этажей в доме',\n",
    "    'HouseYear': 'год постройки дома',\n",
    "    'Ecology_1': 'экологические показатели месности 1',\n",
    "    'Ecology_2': 'экологические показатели месности 2',\n",
    "    'Ecology_3': 'экологические показатели месности 3',\n",
    "    'Social_1': 'социальные показатели месности 1',\n",
    "    'Social_2': 'социальные показатели месности 2',\n",
    "    'Social_3': 'социальные показатели месности 3',\n",
    "    'Healthcare_1': 'показатели месности,\\n связанные с охраной здоровья 1',\n",
    "    'Helthcare_2': 'показатели месности,\\n связанные с охраной здоровья 2',\n",
    "    'Shops_1': 'показатели связанные с наличием\\n магазинов, торговых центров 1',\n",
    "    'Shops_2': 'показатели связанные с наличием\\n магазинов, торговых центров 2',\n",
    "    'Price': 'цена квартиры'\n",
    "}"
   ]
  },
  {
   "cell_type": "markdown",
   "id": "a851b562-a26a-471d-9559-618bacefbc46",
   "metadata": {},
   "source": [
    "#### Визуализируем распределение числовых признаков <a class='anchor' id='num_visual'>"
   ]
  },
  {
   "cell_type": "code",
   "execution_count": null,
   "id": "7cc7626f-77cf-4d64-acc1-f66d71ff4991",
   "metadata": {},
   "outputs": [],
   "source": [
    "def visualization_numerical_characteristics(X=train_data, translate_col=translate_col, dop_text=''):\n",
    "    '''\n",
    "    Визуализация цифровых признаков (так сделал, чтобы код в одном месте находился).\n",
    "\n",
    "    :param X: датасет, который будем визуализировать,\n",
    "    :param translate_col: словарь перевода признаков на русский язык,\n",
    "    :param dop_text: дополнительный текст к заголовку добавляется.\n",
    "    '''\n",
    "    plt.figure(figsize=[11, 13])\n",
    "\n",
    "    # Общий заголовок для всех графиков\n",
    "    plt.suptitle('Распределение числовых признаков '  + dop_text, \n",
    "                  y=1.005, \n",
    "                  fontsize=19, \n",
    "                  fontweight='bold')\n",
    "\n",
    "    for i, col in enumerate(num_cols):\n",
    "        plt.subplot(6, 3, i+1)\n",
    "        # Заголовок для графика\n",
    "        plt.title(f'\\n{col} \\n({translate_col[col]})', fontsize=10)\n",
    "        # Задаём размер шривта и угол поворота текста для осей X и Y\n",
    "        plt.xticks(fontsize=8, rotation=0)\n",
    "        plt.yticks(fontsize=8, rotation=0)\n",
    "        # Делаем размер шрифта по Y=5, не уберая название оси\n",
    "        plt.ylabel('', fontsize=5)\n",
    "        # Отрисовываем гистограмму\n",
    "        plt.hist(X[col])\n",
    "\n",
    "    # Автоматически уместить все элементы на полотне    \n",
    "    plt.tight_layout()\n",
    "\n",
    "    # Вывести графики на экран\n",
    "    plt.show()"
   ]
  },
  {
   "cell_type": "code",
   "execution_count": null,
   "id": "88bc84da-876e-4a82-90b8-325f2d2f14a6",
   "metadata": {},
   "outputs": [],
   "source": [
    "visualization_numerical_characteristics()"
   ]
  },
  {
   "cell_type": "markdown",
   "id": "71bb58db-fb33-40d6-8e63-f4edc57ab607",
   "metadata": {},
   "source": [
    "#### Визуализируем распределение строковых признаков <a class='anchor' id='char_visual'>"
   ]
  },
  {
   "cell_type": "code",
   "execution_count": null,
   "id": "342d4af5-4a58-449a-a88d-deb42676a8b5",
   "metadata": {},
   "outputs": [],
   "source": [
    "# Задаём размеры полотна [ширина, длина]\n",
    "plt.figure(figsize=[11, 6])\n",
    "\n",
    "# Общий заголовок для всех графиков\n",
    "plt.suptitle('Распределение строковых признаков', \n",
    "              y=1.005, \n",
    "              fontsize=19, \n",
    "              fontweight='bold')\n",
    "index_plt = 1\n",
    "# Добавляем графики на полотно (3 шт. в одном ряду)\n",
    "for col in str_cols:\n",
    "    plt.subplot(2, 3, index_plt)\n",
    "    # Заголовок для графика\n",
    "    plt.title(f'{col} \\n({translate_col[col]})', fontsize=10)\n",
    "    # Задаём размер шривта и угол поворота текста для осей X и Y\n",
    "    plt.xticks(fontsize=8, rotation=0)\n",
    "    plt.yticks(fontsize=8, rotation=0)\n",
    "    # Убираем подпись оси X\n",
    "    plt.xlabel(' ')\n",
    "    # Делаем размер шрифта по Y=5, не уберая название оси\n",
    "    plt.ylabel('', fontsize=5)\n",
    "    # Отрисовываем гистограмму\n",
    "    sns.histplot(train_data[col])\n",
    "    index_plt += 1\n",
    "\n",
    "# Автоматически уместить все элементы на полотне    \n",
    "plt.tight_layout()\n",
    "\n",
    "# Вывести графики на экран\n",
    "plt.show()"
   ]
  },
  {
   "cell_type": "markdown",
   "id": "3e07e21e-3b36-4d8f-aa78-231c3990f50b",
   "metadata": {
    "jp-MarkdownHeadingCollapsed": true
   },
   "source": [
    "### Предобработка признаков <a class='anchor' id='predobrabotka'>"
   ]
  },
  {
   "cell_type": "markdown",
   "id": "de8ee2a1-2357-4564-9ea8-1ac33a9f0d1c",
   "metadata": {},
   "source": [
    "#### Посмотрим какие признаки имеют выбросы <a class='anchor' id='vibros'>"
   ]
  },
  {
   "cell_type": "code",
   "execution_count": null,
   "id": "33eb91fa-f5b6-4cbd-85aa-dfe8dc783ee4",
   "metadata": {},
   "outputs": [],
   "source": [
    "def emission_test(ds, col_test, threshold_val=3):\n",
    "    '''\n",
    "    Функция проводит тестирование столбцов на выбросы методом Z-score.\n",
    "    \n",
    "    :param ds: исследуемый датасет,\n",
    "    :param col_test: список колонок,\n",
    "    :param threshold_val: пороговое значение Z-score,\n",
    "    :return: текстовый отчет и список выбросов.\n",
    "    '''\n",
    "    result = ''\n",
    "    NUM = 2  # количество цифр после запятой\n",
    "    outliers_list = [] # лист выбросов\n",
    "    for col in col_test:\n",
    "        # Вычисление Z-score\n",
    "        z = np.abs(stats.zscore(ds[col]))\n",
    "        # Установка порогового значения Z-score\n",
    "        threshold = 3\n",
    "        # Выявление выбросов на основе Z-score\n",
    "        outliers = ds[col][z > threshold]\n",
    "        \n",
    "        if len(outliers) > 0:\n",
    "            outliers_list.append(outliers)\n",
    "            \n",
    "            result += f'В столбце {col} ({translate_col[col]}),\\n{len(outliers)} выбросов. Mean: {round(ds[col].mean(), NUM)}, ' \\\n",
    "            f'Min: {round(ds[col].min(), NUM)}, Max: {round(ds[col].max(), NUM)}, ' \\\n",
    "            f'Moda: {round(ds[col].mode()[0], NUM)}, Median: {round(ds[col].median(), NUM)} \\n\\n'\n",
    "    \n",
    "    return f'Выбросов нет. ' if result == '' else result, outliers_list"
   ]
  },
  {
   "cell_type": "code",
   "execution_count": null,
   "id": "56cf98e3-f66b-4e6d-a8f7-b88f0b2bc64d",
   "metadata": {},
   "outputs": [],
   "source": [
    "def viev_outliers(outliers_list, col_name):\n",
    "    '''\n",
    "    Функция выводит строки датафрейма, в которых есть выбросы.\n",
    "    \n",
    "    :param outliers_list: список выбросов,\n",
    "    :param col_name: название признака (фичи),\n",
    "    :return: индексы выбросов.\n",
    "    '''\n",
    "    for item in outliers:\n",
    "        if item.name == col_name:\n",
    "            return item.index "
   ]
  },
  {
   "cell_type": "code",
   "execution_count": null,
   "id": "e3fc0712-1a92-4269-9e12-86fbfbc74708",
   "metadata": {},
   "outputs": [],
   "source": [
    "# Выведем признаки которые имеют выбросы\n",
    "text_outliers, outliers = emission_test(ds=train_data, col_test=num_cols)"
   ]
  },
  {
   "cell_type": "code",
   "execution_count": null,
   "id": "1238b4d1-6b26-455c-b105-212b5c98e30f",
   "metadata": {},
   "outputs": [],
   "source": [
    "# Выведем текстовый отчёт по выбросам\n",
    "print(text_outliers)"
   ]
  },
  {
   "cell_type": "markdown",
   "id": "93a62298-11ea-43a5-9716-1fdfa12712e9",
   "metadata": {},
   "source": [
    "#### Признак 'HouseYear' <a class='anchor' id='house_year'>"
   ]
  },
  {
   "cell_type": "code",
   "execution_count": null,
   "id": "ab6f0ddc-8e5c-483d-a716-12565f03f065",
   "metadata": {},
   "outputs": [],
   "source": [
    "# Посмотрим даты, которые больше текущей даты \n",
    "train_data[train_data['HouseYear'] > datetime.now().year]"
   ]
  },
  {
   "cell_type": "markdown",
   "id": "5f23b47c-e56e-4c55-b1a4-90b664448f03",
   "metadata": {},
   "source": [
    "**Изменения:**"
   ]
  },
  {
   "cell_type": "code",
   "execution_count": null,
   "id": "ce19e169-4386-4335-805c-02846ee3e2d6",
   "metadata": {},
   "outputs": [],
   "source": [
    "# Признак 'HouseYear'\n",
    "# Заменим все года постройки, которые больше текущего года на моду\n",
    "train_data.loc[train_data['HouseYear'] > datetime.now().year, ['HouseYear']] = train_data['HouseYear'].mode()[0]"
   ]
  },
  {
   "cell_type": "code",
   "execution_count": null,
   "id": "c588e86b-6f57-4bff-a075-0dfc7aa8f8d3",
   "metadata": {},
   "outputs": [],
   "source": [
    "# Посмотрим статиску\n",
    "train_data['HouseYear'].describe()"
   ]
  },
  {
   "cell_type": "code",
   "execution_count": null,
   "id": "99f4d6ef-0ce3-4acf-b7b7-05f7c33266e0",
   "metadata": {},
   "outputs": [],
   "source": [
    "# Посмотрим выбросы\n",
    "print(emission_test(ds=train_data, col_test=['HouseYear'])[0])"
   ]
  },
  {
   "cell_type": "markdown",
   "id": "2944fd4a-06a1-4d0a-b287-8df6fae7188d",
   "metadata": {},
   "source": [
    "**Вывод:** Убрал слишком большие даты, заменил их на моду. "
   ]
  },
  {
   "cell_type": "markdown",
   "id": "f47b475f-aa45-4a18-9ead-4fe958740f9f",
   "metadata": {},
   "source": [
    "#### Признак 'Rooms' <a class='anchor' id='rooms'>"
   ]
  },
  {
   "cell_type": "code",
   "execution_count": null,
   "id": "f98d7460-ca69-4070-b9f9-f25243ffdd24",
   "metadata": {},
   "outputs": [],
   "source": [
    "# Посмотрим выбросы и цену\n",
    "train_data.loc[viev_outliers(outliers, 'Rooms')].sort_values(by='Rooms')"
   ]
  },
  {
   "cell_type": "code",
   "execution_count": null,
   "id": "94ca97f9-893c-448a-bcc0-26100b49a461",
   "metadata": {},
   "outputs": [],
   "source": [
    "# Посмотрим количесиво квартир с различными комнатами\n",
    "train_data['Rooms'].value_counts()"
   ]
  },
  {
   "cell_type": "code",
   "execution_count": null,
   "id": "ad1586d2-e9c9-49ca-93f2-0c199f469d37",
   "metadata": {},
   "outputs": [],
   "source": [
    "# Посмотрим квартиры с 0 комнат и ценой\n",
    "train_data.query('(Rooms == 0)')"
   ]
  },
  {
   "cell_type": "markdown",
   "id": "46099330-edda-40cb-be08-f093684e652b",
   "metadata": {},
   "source": [
    "**Измения:**"
   ]
  },
  {
   "cell_type": "code",
   "execution_count": null,
   "id": "77a0f891-fe7e-4eae-ae9f-786bcc0dbcba",
   "metadata": {},
   "outputs": [],
   "source": [
    "# Признак 'Rooms'\n",
    "# Создадим индексы строк в которых 5 и более комнат, а их площадь менее 100 или меньше одной комнаты\n",
    "index_edit = train_data.query('(((Rooms >= 5) & (Square < 100)) | (Rooms < 1))').index\n",
    "# Заменим аномальные значения на медиану\n",
    "train_data.loc[index_edit, ['Rooms']] = train_data['Rooms'].median()"
   ]
  },
  {
   "cell_type": "code",
   "execution_count": null,
   "id": "8670f588-7441-410c-afb3-a79037dff773",
   "metadata": {},
   "outputs": [],
   "source": [
    "# Посмотрим статиску\n",
    "train_data['Rooms'].describe()"
   ]
  },
  {
   "cell_type": "code",
   "execution_count": null,
   "id": "b4ffff96-6bf1-4f07-9173-8f893bffd430",
   "metadata": {},
   "outputs": [],
   "source": [
    "# Посмотрим выбросы\n",
    "print(emission_test(ds=train_data, col_test=['Rooms'])[0])"
   ]
  },
  {
   "cell_type": "markdown",
   "id": "e19c7e06-5856-45de-b90e-705ec9d66612",
   "metadata": {},
   "source": [
    "**Вывод:** Исправил квартиры с нулём комнат и более 5 комнат."
   ]
  },
  {
   "cell_type": "markdown",
   "id": "9576f08b-92b7-46e8-b9e6-2d1189d203bc",
   "metadata": {},
   "source": [
    "#### Признак 'KitchenSquare' <a class='anchor' id='kitchen_square'>"
   ]
  },
  {
   "cell_type": "code",
   "execution_count": null,
   "id": "e9950c84-11c1-4b61-8902-314e5d18b015",
   "metadata": {},
   "outputs": [],
   "source": [
    "# Посмотрим выбросы\n",
    "train_data.loc[viev_outliers(outliers, 'KitchenSquare')].sort_values(by='KitchenSquare')"
   ]
  },
  {
   "cell_type": "code",
   "execution_count": null,
   "id": "4c21d737-3591-4b8e-8594-9e91d531a25e",
   "metadata": {},
   "outputs": [],
   "source": [
    "# Посмотрим какие кухни есть\n",
    "train_data['KitchenSquare'].value_counts().sort_values()"
   ]
  },
  {
   "cell_type": "code",
   "execution_count": null,
   "id": "0b2697c8-e5d6-49dc-a15b-eadda6e71c58",
   "metadata": {},
   "outputs": [],
   "source": [
    "# Посмотрим квартиры без кухни\n",
    "train_data.query('(KitchenSquare == 0)').sort_values(by='Square')"
   ]
  },
  {
   "cell_type": "code",
   "execution_count": null,
   "id": "55ddebbe-16c9-4c3e-b586-73d9905bea4c",
   "metadata": {},
   "outputs": [],
   "source": [
    "# Посмотрим квартиры с кухней > 20\n",
    "train_data.query('(KitchenSquare > 20)').sort_values(by='KitchenSquare')"
   ]
  },
  {
   "cell_type": "code",
   "execution_count": null,
   "id": "9998fd41-6fa7-4828-87fd-591e7f9a4cc0",
   "metadata": {},
   "outputs": [],
   "source": [
    "# Посмотрим квартиры с кухней > 35\n",
    "train_data.query('(KitchenSquare > 35)').sort_values(by='KitchenSquare')"
   ]
  },
  {
   "cell_type": "code",
   "execution_count": null,
   "id": "5169af4c-5ea3-477c-8667-081f0d081fcb",
   "metadata": {},
   "outputs": [],
   "source": [
    "# Посмотрим квантили\n",
    "train_data['KitchenSquare'].quantile(0.975), train_data['KitchenSquare'].quantile(0.025)"
   ]
  },
  {
   "cell_type": "code",
   "execution_count": null,
   "id": "0d30ec90-51e6-4958-ad60-b3b7a1613aa7",
   "metadata": {},
   "outputs": [],
   "source": [
    "# Посмотрим медиану\n",
    "train_data['KitchenSquare'].median()"
   ]
  },
  {
   "cell_type": "markdown",
   "id": "1db692fb-50b3-46df-b261-e45fe6788394",
   "metadata": {},
   "source": [
    "**Изменения:**"
   ]
  },
  {
   "cell_type": "code",
   "execution_count": null,
   "id": "9b7c0f5c-3d0d-422d-a8d6-b815d7406319",
   "metadata": {},
   "outputs": [],
   "source": [
    "# Признак 'KitchenSquare'\n",
    "# Заменим все кухни, которые больше 35 квадратов на медиану\n",
    "train_data.loc[train_data['KitchenSquare'] > 35, ['KitchenSquare']] = train_data['KitchenSquare'].median()"
   ]
  },
  {
   "cell_type": "code",
   "execution_count": null,
   "id": "edae9ea2-317b-4718-8548-8397813c0685",
   "metadata": {},
   "outputs": [],
   "source": [
    "train_data['KitchenSquare'].describe()"
   ]
  },
  {
   "cell_type": "code",
   "execution_count": null,
   "id": "a433c3d4-909b-404c-9609-6cd82f02816c",
   "metadata": {},
   "outputs": [],
   "source": [
    "# Посмотрим выбросы\n",
    "print(emission_test(ds=train_data, col_test=['KitchenSquare'])[0])"
   ]
  },
  {
   "cell_type": "markdown",
   "id": "01e87d70-9c0c-4907-8a9a-5538ce5f4839",
   "metadata": {},
   "source": [
    "**Вывод:** Убрал только кухни больше 35 $м^{2}$. Без кухни или совсем маленькие - это может быть комуналка или студия."
   ]
  },
  {
   "cell_type": "markdown",
   "id": "f2381c33-8c3e-4374-85d8-8691c4e1d231",
   "metadata": {},
   "source": [
    "#### Признаки 'Square' и 'LifeSquare' <a class='anchor' id='square_life_square'>"
   ]
  },
  {
   "cell_type": "code",
   "execution_count": 4,
   "id": "4bfdeec2-ca14-48cc-92ca-4ef8f681868a",
   "metadata": {},
   "outputs": [
    {
     "ename": "NameError",
     "evalue": "name 'train_data' is not defined",
     "output_type": "error",
     "traceback": [
      "\u001b[1;31m---------------------------------------------------------------------------\u001b[0m",
      "\u001b[1;31mNameError\u001b[0m                                 Traceback (most recent call last)",
      "Cell \u001b[1;32mIn[4], line 2\u001b[0m\n\u001b[0;32m      1\u001b[0m \u001b[38;5;66;03m# Посмотрим выбросы\u001b[39;00m\n\u001b[1;32m----> 2\u001b[0m \u001b[43mtrain_data\u001b[49m\u001b[38;5;241m.\u001b[39mloc[viev_outliers(outliers, \u001b[38;5;124m'\u001b[39m\u001b[38;5;124mSquare\u001b[39m\u001b[38;5;124m'\u001b[39m)]\u001b[38;5;241m.\u001b[39msort_values(by\u001b[38;5;241m=\u001b[39m\u001b[38;5;124m'\u001b[39m\u001b[38;5;124mSquare\u001b[39m\u001b[38;5;124m'\u001b[39m)\n",
      "\u001b[1;31mNameError\u001b[0m: name 'train_data' is not defined"
     ]
    }
   ],
   "source": [
    "# Посмотрим выбросы\n",
    "train_data.loc[viev_outliers(outliers, 'Square')].sort_values(by='Square')"
   ]
  },
  {
   "cell_type": "code",
   "execution_count": null,
   "id": "19fdc84f-772b-43cc-865d-4cbc2eae3219",
   "metadata": {},
   "outputs": [],
   "source": [
    "# Посмотрим количество уникальных площадей квартир\n",
    "len(train_data['Square'].unique())"
   ]
  },
  {
   "cell_type": "code",
   "execution_count": null,
   "id": "e9d1b9f1-b79c-4b7d-ac17-56b175fce599",
   "metadata": {},
   "outputs": [],
   "source": [
    "# Посмотрим количество\n",
    "train_data['Square'].value_counts().sort_values()"
   ]
  },
  {
   "cell_type": "code",
   "execution_count": null,
   "id": "44e15630-6107-4664-a4f4-626f1e052d1a",
   "metadata": {},
   "outputs": [],
   "source": [
    "# Посмотрим количество\n",
    "train_data['LifeSquare'].value_counts().sort_values()"
   ]
  },
  {
   "cell_type": "code",
   "execution_count": null,
   "id": "1b4a5e6b-4cba-49de-bb60-11a55a3fb3bf",
   "metadata": {},
   "outputs": [],
   "source": [
    "# Посмотрим квартиры < 20 м\n",
    "train_data.query('(Square < 20)').sort_values(by='Square')"
   ]
  },
  {
   "cell_type": "code",
   "execution_count": 5,
   "id": "7c5ff5f0-6fb1-4e34-8221-4b57051971c9",
   "metadata": {},
   "outputs": [
    {
     "ename": "NameError",
     "evalue": "name 'train_data' is not defined",
     "output_type": "error",
     "traceback": [
      "\u001b[1;31m---------------------------------------------------------------------------\u001b[0m",
      "\u001b[1;31mNameError\u001b[0m                                 Traceback (most recent call last)",
      "Cell \u001b[1;32mIn[5], line 2\u001b[0m\n\u001b[0;32m      1\u001b[0m \u001b[38;5;66;03m# Посмотрим квартиры 1 м\u001b[39;00m\n\u001b[1;32m----> 2\u001b[0m \u001b[43mtrain_data\u001b[49m\u001b[38;5;241m.\u001b[39mquery(\u001b[38;5;124m'\u001b[39m\u001b[38;5;124m(Square == 1)\u001b[39m\u001b[38;5;124m'\u001b[39m)\n",
      "\u001b[1;31mNameError\u001b[0m: name 'train_data' is not defined"
     ]
    }
   ],
   "source": [
    "# Посмотрим квартиры 1 м\n",
    "train_data.query('(Square == 1)')"
   ]
  },
  {
   "cell_type": "code",
   "execution_count": 6,
   "id": "16bf4f43-0137-4442-a60e-b00e308d54bc",
   "metadata": {},
   "outputs": [
    {
     "ename": "NameError",
     "evalue": "name 'train_data' is not defined",
     "output_type": "error",
     "traceback": [
      "\u001b[1;31m---------------------------------------------------------------------------\u001b[0m",
      "\u001b[1;31mNameError\u001b[0m                                 Traceback (most recent call last)",
      "Cell \u001b[1;32mIn[6], line 2\u001b[0m\n\u001b[0;32m      1\u001b[0m \u001b[38;5;66;03m# Посмотрим квартиры в которых общая площадь меньше жилой площади\u001b[39;00m\n\u001b[1;32m----> 2\u001b[0m \u001b[43mtrain_data\u001b[49m\u001b[38;5;241m.\u001b[39mquery(\u001b[38;5;124m'\u001b[39m\u001b[38;5;124m(Square < LifeSquare)\u001b[39m\u001b[38;5;124m'\u001b[39m)\u001b[38;5;241m.\u001b[39msort_values(by\u001b[38;5;241m=\u001b[39m\u001b[38;5;124m'\u001b[39m\u001b[38;5;124mSquare\u001b[39m\u001b[38;5;124m'\u001b[39m)\n",
      "\u001b[1;31mNameError\u001b[0m: name 'train_data' is not defined"
     ]
    }
   ],
   "source": [
    "# Посмотрим квартиры в которых общая площадь меньше жилой площади\n",
    "train_data.query('(Square < LifeSquare)').sort_values(by='Square')"
   ]
  },
  {
   "cell_type": "code",
   "execution_count": null,
   "id": "8842dc76-7c3a-4c0d-89d6-7c1d856df6df",
   "metadata": {},
   "outputs": [],
   "source": [
    "# Посмотрим статистику\n",
    "train_data['LifeSquare'].describe()"
   ]
  },
  {
   "cell_type": "code",
   "execution_count": 7,
   "id": "7f2961f5-adc9-4653-ad3a-2c57001a9a19",
   "metadata": {},
   "outputs": [
    {
     "ename": "NameError",
     "evalue": "name 'train_data' is not defined",
     "output_type": "error",
     "traceback": [
      "\u001b[1;31m---------------------------------------------------------------------------\u001b[0m",
      "\u001b[1;31mNameError\u001b[0m                                 Traceback (most recent call last)",
      "Cell \u001b[1;32mIn[7], line 2\u001b[0m\n\u001b[0;32m      1\u001b[0m \u001b[38;5;66;03m# Посмотрим квартиры с жилой площадью больше максимальной площади\u001b[39;00m\n\u001b[1;32m----> 2\u001b[0m \u001b[43mtrain_data\u001b[49m[train_data[\u001b[38;5;124m'\u001b[39m\u001b[38;5;124mLifeSquare\u001b[39m\u001b[38;5;124m'\u001b[39m] \u001b[38;5;241m>\u001b[39m train_data[\u001b[38;5;124m'\u001b[39m\u001b[38;5;124mSquare\u001b[39m\u001b[38;5;124m'\u001b[39m]\u001b[38;5;241m.\u001b[39mmax()]\n",
      "\u001b[1;31mNameError\u001b[0m: name 'train_data' is not defined"
     ]
    }
   ],
   "source": [
    "# Посмотрим квартиры с жилой площадью больше максимальной площади\n",
    "train_data[train_data['LifeSquare'] > train_data['Square'].max()]"
   ]
  },
  {
   "cell_type": "markdown",
   "id": "0bbcb542-3d63-47aa-bb6d-8ddeb41373f0",
   "metadata": {},
   "source": [
    "**Изменения:**"
   ]
  },
  {
   "cell_type": "code",
   "execution_count": null,
   "id": "1ca453f0-3748-46b9-898c-ca4c2f683d5c",
   "metadata": {},
   "outputs": [],
   "source": [
    "# Признаки 'Square' и 'LifeSquare'\n",
    "# Чтобы метраж у каждой квартиры, был уникальным - маловероятно. Округлим метраж до целых чисел\n",
    "train_data['Square'] = train_data['Square'].apply(lambda x: round(x, 0))\n",
    "train_data['LifeSquare'] = train_data['LifeSquare'].apply(lambda x: round(x, 0))\n",
    "\n",
    "# Заменим экстримальные значения LifeSquare\n",
    "train_data.loc[(train_data['LifeSquare'] > train_data['Square'].max()), ['LifeSquare']] = train_data['Square']"
   ]
  },
  {
   "cell_type": "markdown",
   "id": "1ee7c56a-7cb1-4b6f-933e-1da4b3b18e49",
   "metadata": {},
   "source": [
    "Оказывается есть квартиры 4,8 метра, не веришь смотри [видео](https://www.youtube.com/watch?v=15QK4Mg4wEU). Так, что это не выбросы. "
   ]
  },
  {
   "cell_type": "code",
   "execution_count": null,
   "id": "f75fa0fc-e74c-4274-9c2c-d102f76012b3",
   "metadata": {},
   "outputs": [],
   "source": [
    "# Заменим совсем уж маленькую площадь\n",
    "train_data.loc[(train_data['Square'] < 5), ['Square']] = 5\n",
    "\n",
    "# Заменим не корректные значения Square на LifeSquare + KitchenSquare\n",
    "train_data.loc[(train_data['Square'] < train_data['LifeSquare']), ['Square']] = train_data['LifeSquare'] + train_data['KitchenSquare']\n",
    "\n",
    "# Заменим не корректные значения LifeSquare на Square - KitchenSquare\n",
    "train_data.loc[(train_data['Square'] == train_data['LifeSquare']), ['LifeSquare']] = train_data['Square'] - train_data['KitchenSquare']\n",
    "\n",
    "# Заменим недостающие значения LifeSquare или значения < 20.   LifeSquare = Square - KitchenSquare\n",
    "train_data.loc[((train_data['LifeSquare'].isna()) | (train_data['LifeSquare'] < 20)), ['LifeSquare']] = train_data['Square'] - train_data['KitchenSquare']"
   ]
  },
  {
   "cell_type": "code",
   "execution_count": 8,
   "id": "e2d79728-cd36-4bc5-b50d-b011a18ac301",
   "metadata": {},
   "outputs": [
    {
     "ename": "NameError",
     "evalue": "name 'train_data' is not defined",
     "output_type": "error",
     "traceback": [
      "\u001b[1;31m---------------------------------------------------------------------------\u001b[0m",
      "\u001b[1;31mNameError\u001b[0m                                 Traceback (most recent call last)",
      "Cell \u001b[1;32mIn[8], line 2\u001b[0m\n\u001b[0;32m      1\u001b[0m \u001b[38;5;66;03m# Посмотрим статистику Floor и HouseFloor\u001b[39;00m\n\u001b[1;32m----> 2\u001b[0m \u001b[43mtrain_data\u001b[49m\u001b[38;5;241m.\u001b[39mdescribe()\n",
      "\u001b[1;31mNameError\u001b[0m: name 'train_data' is not defined"
     ]
    }
   ],
   "source": [
    "# Посмотрим статистику Floor и HouseFloor\n",
    "train_data.describe()"
   ]
  },
  {
   "cell_type": "code",
   "execution_count": null,
   "id": "a4db9c2b-0253-4ab1-98c6-fd5dc751eafe",
   "metadata": {},
   "outputs": [],
   "source": [
    "# Посмотрим выбросы после чистки данных\n",
    "print(emission_test(ds=train_data, col_test=['Square', 'LifeSquare'])[0])"
   ]
  },
  {
   "cell_type": "code",
   "execution_count": 9,
   "id": "7c55b6f2-2c8e-484d-8b7e-3e303dccfc41",
   "metadata": {},
   "outputs": [
    {
     "ename": "NameError",
     "evalue": "name 'emission_test' is not defined",
     "output_type": "error",
     "traceback": [
      "\u001b[1;31m---------------------------------------------------------------------------\u001b[0m",
      "\u001b[1;31mNameError\u001b[0m                                 Traceback (most recent call last)",
      "Cell \u001b[1;32mIn[9], line 2\u001b[0m\n\u001b[0;32m      1\u001b[0m \u001b[38;5;66;03m# Сформируем таблицу выбросов для 'Square' и 'LifeSquare'\u001b[39;00m\n\u001b[1;32m----> 2\u001b[0m outliers \u001b[38;5;241m=\u001b[39m \u001b[43memission_test\u001b[49m(ds\u001b[38;5;241m=\u001b[39mtrain_data, col_test\u001b[38;5;241m=\u001b[39m[\u001b[38;5;124m'\u001b[39m\u001b[38;5;124mSquare\u001b[39m\u001b[38;5;124m'\u001b[39m, \u001b[38;5;124m'\u001b[39m\u001b[38;5;124mLifeSquare\u001b[39m\u001b[38;5;124m'\u001b[39m])[\u001b[38;5;241m1\u001b[39m]\n\u001b[0;32m      3\u001b[0m \u001b[38;5;66;03m# Посмотрим выбросы в Square после чистки данных\u001b[39;00m\n\u001b[0;32m      4\u001b[0m train_data\u001b[38;5;241m.\u001b[39mloc[viev_outliers(outliers, \u001b[38;5;124m'\u001b[39m\u001b[38;5;124mSquare\u001b[39m\u001b[38;5;124m'\u001b[39m)]\u001b[38;5;241m.\u001b[39msort_values(by\u001b[38;5;241m=\u001b[39m\u001b[38;5;124m'\u001b[39m\u001b[38;5;124mSquare\u001b[39m\u001b[38;5;124m'\u001b[39m)\n",
      "\u001b[1;31mNameError\u001b[0m: name 'emission_test' is not defined"
     ]
    }
   ],
   "source": [
    "# Сформируем таблицу выбросов для 'Square' и 'LifeSquare'\n",
    "outliers = emission_test(ds=train_data, col_test=['Square', 'LifeSquare'])[1]\n",
    "# Посмотрим выбросы в Square после чистки данных\n",
    "train_data.loc[viev_outliers(outliers, 'Square')].sort_values(by='Square')"
   ]
  },
  {
   "cell_type": "code",
   "execution_count": 10,
   "id": "be80657b-9a7f-4498-987d-e89b5a41ddbf",
   "metadata": {},
   "outputs": [
    {
     "ename": "NameError",
     "evalue": "name 'train_data' is not defined",
     "output_type": "error",
     "traceback": [
      "\u001b[1;31m---------------------------------------------------------------------------\u001b[0m",
      "\u001b[1;31mNameError\u001b[0m                                 Traceback (most recent call last)",
      "Cell \u001b[1;32mIn[10], line 2\u001b[0m\n\u001b[0;32m      1\u001b[0m \u001b[38;5;66;03m# Посмотрим выбросы в LifeSquare после чистки данных\u001b[39;00m\n\u001b[1;32m----> 2\u001b[0m \u001b[43mtrain_data\u001b[49m\u001b[38;5;241m.\u001b[39mloc[viev_outliers(outliers, \u001b[38;5;124m'\u001b[39m\u001b[38;5;124mLifeSquare\u001b[39m\u001b[38;5;124m'\u001b[39m)]\u001b[38;5;241m.\u001b[39msort_values(by\u001b[38;5;241m=\u001b[39m\u001b[38;5;124m'\u001b[39m\u001b[38;5;124mLifeSquare\u001b[39m\u001b[38;5;124m'\u001b[39m)\n",
      "\u001b[1;31mNameError\u001b[0m: name 'train_data' is not defined"
     ]
    }
   ],
   "source": [
    "# Посмотрим выбросы в LifeSquare после чистки данных\n",
    "train_data.loc[viev_outliers(outliers, 'LifeSquare')].sort_values(by='LifeSquare')"
   ]
  },
  {
   "cell_type": "markdown",
   "id": "008f9c5c-65a9-4771-804d-a7ca97cab9de",
   "metadata": {},
   "source": [
    "**Вывод:** Думаю, что квартиры (помещения) $5м^{2}$ и $641м^{2}$ могут существовать, поэтому я их не удалил."
   ]
  },
  {
   "cell_type": "markdown",
   "id": "8ead34e3-b20d-43f8-ae82-4a808c5aab2c",
   "metadata": {},
   "source": [
    "#### Признаки 'HouseFloor' и 'Floor' <a class='anchor' id='floor_house_floor'>"
   ]
  },
  {
   "cell_type": "code",
   "execution_count": null,
   "id": "8d85f43e-0c98-467e-81a6-9f2105c977db",
   "metadata": {},
   "outputs": [],
   "source": [
    "# Посмотрим сколько этажей у домов\n",
    "train_data['HouseFloor'].sort_values().unique()"
   ]
  },
  {
   "cell_type": "code",
   "execution_count": null,
   "id": "72bce4aa-2866-4b9e-bf92-bc5013ac02ef",
   "metadata": {},
   "outputs": [],
   "source": [
    "# Посмотрим какие этажи у квартир\n",
    "train_data['Floor'].sort_values().unique()"
   ]
  },
  {
   "cell_type": "code",
   "execution_count": null,
   "id": "8c7fa294-99eb-49bf-a956-a5328e3a993a",
   "metadata": {},
   "outputs": [],
   "source": [
    "# Посмотрим сколько квартир в которых, этаж квартиры больше, чем этажность дома\n",
    "(train_data['Floor'] > train_data['HouseFloor']).sum()"
   ]
  },
  {
   "cell_type": "code",
   "execution_count": 11,
   "id": "1755b598-36c3-4360-9076-dd5111692549",
   "metadata": {},
   "outputs": [
    {
     "ename": "NameError",
     "evalue": "name 'emission_test' is not defined",
     "output_type": "error",
     "traceback": [
      "\u001b[1;31m---------------------------------------------------------------------------\u001b[0m",
      "\u001b[1;31mNameError\u001b[0m                                 Traceback (most recent call last)",
      "Cell \u001b[1;32mIn[11], line 2\u001b[0m\n\u001b[0;32m      1\u001b[0m \u001b[38;5;66;03m# Сформируем таблицу выбросов для 'HouseFloor' и 'Floor'\u001b[39;00m\n\u001b[1;32m----> 2\u001b[0m outliers \u001b[38;5;241m=\u001b[39m \u001b[43memission_test\u001b[49m(ds\u001b[38;5;241m=\u001b[39mtrain_data, col_test\u001b[38;5;241m=\u001b[39m[\u001b[38;5;124m'\u001b[39m\u001b[38;5;124mHouseFloor\u001b[39m\u001b[38;5;124m'\u001b[39m, \u001b[38;5;124m'\u001b[39m\u001b[38;5;124mFloor\u001b[39m\u001b[38;5;124m'\u001b[39m])[\u001b[38;5;241m1\u001b[39m]\n\u001b[0;32m      3\u001b[0m \u001b[38;5;66;03m# Посмотрим выбросы в HouseFloor \u001b[39;00m\n\u001b[0;32m      4\u001b[0m train_data\u001b[38;5;241m.\u001b[39mloc[viev_outliers(outliers, \u001b[38;5;124m'\u001b[39m\u001b[38;5;124mHouseFloor\u001b[39m\u001b[38;5;124m'\u001b[39m)]\u001b[38;5;241m.\u001b[39msort_values(by\u001b[38;5;241m=\u001b[39m\u001b[38;5;124m'\u001b[39m\u001b[38;5;124mHouseFloor\u001b[39m\u001b[38;5;124m'\u001b[39m)\n",
      "\u001b[1;31mNameError\u001b[0m: name 'emission_test' is not defined"
     ]
    }
   ],
   "source": [
    "# Сформируем таблицу выбросов для 'HouseFloor' и 'Floor'\n",
    "outliers = emission_test(ds=train_data, col_test=['HouseFloor', 'Floor'])[1]\n",
    "# Посмотрим выбросы в HouseFloor \n",
    "train_data.loc[viev_outliers(outliers, 'HouseFloor')].sort_values(by='HouseFloor')"
   ]
  },
  {
   "cell_type": "code",
   "execution_count": 12,
   "id": "c8045258-fda9-4c21-ac27-9075a392f696",
   "metadata": {},
   "outputs": [
    {
     "ename": "NameError",
     "evalue": "name 'train_data' is not defined",
     "output_type": "error",
     "traceback": [
      "\u001b[1;31m---------------------------------------------------------------------------\u001b[0m",
      "\u001b[1;31mNameError\u001b[0m                                 Traceback (most recent call last)",
      "Cell \u001b[1;32mIn[12], line 2\u001b[0m\n\u001b[0;32m      1\u001b[0m \u001b[38;5;66;03m# Посмотрим экстримальные значения\u001b[39;00m\n\u001b[1;32m----> 2\u001b[0m \u001b[43mtrain_data\u001b[49m[train_data[\u001b[38;5;124m'\u001b[39m\u001b[38;5;124mHouseFloor\u001b[39m\u001b[38;5;124m'\u001b[39m] \u001b[38;5;241m<\u001b[39m \u001b[38;5;241m1\u001b[39m]\n",
      "\u001b[1;31mNameError\u001b[0m: name 'train_data' is not defined"
     ]
    }
   ],
   "source": [
    "# Посмотрим экстримальные значения\n",
    "train_data[train_data['HouseFloor'] < 1]"
   ]
  },
  {
   "cell_type": "code",
   "execution_count": 13,
   "id": "879e2390-530f-456f-92a1-6d6d9df5a8f3",
   "metadata": {},
   "outputs": [
    {
     "ename": "NameError",
     "evalue": "name 'train_data' is not defined",
     "output_type": "error",
     "traceback": [
      "\u001b[1;31m---------------------------------------------------------------------------\u001b[0m",
      "\u001b[1;31mNameError\u001b[0m                                 Traceback (most recent call last)",
      "Cell \u001b[1;32mIn[13], line 2\u001b[0m\n\u001b[0;32m      1\u001b[0m \u001b[38;5;66;03m# Посмотрим выбросы Floor\u001b[39;00m\n\u001b[1;32m----> 2\u001b[0m \u001b[43mtrain_data\u001b[49m\u001b[38;5;241m.\u001b[39mloc[viev_outliers(outliers, \u001b[38;5;124m'\u001b[39m\u001b[38;5;124mFloor\u001b[39m\u001b[38;5;124m'\u001b[39m)]\u001b[38;5;241m.\u001b[39msort_values(by\u001b[38;5;241m=\u001b[39m\u001b[38;5;124m'\u001b[39m\u001b[38;5;124mFloor\u001b[39m\u001b[38;5;124m'\u001b[39m)\n",
      "\u001b[1;31mNameError\u001b[0m: name 'train_data' is not defined"
     ]
    }
   ],
   "source": [
    "# Посмотрим выбросы Floor\n",
    "train_data.loc[viev_outliers(outliers, 'Floor')].sort_values(by='Floor')"
   ]
  },
  {
   "cell_type": "code",
   "execution_count": 14,
   "id": "0a001ead-4120-4859-8642-6dc726b61bae",
   "metadata": {},
   "outputs": [
    {
     "ename": "NameError",
     "evalue": "name 'train_data' is not defined",
     "output_type": "error",
     "traceback": [
      "\u001b[1;31m---------------------------------------------------------------------------\u001b[0m",
      "\u001b[1;31mNameError\u001b[0m                                 Traceback (most recent call last)",
      "Cell \u001b[1;32mIn[14], line 2\u001b[0m\n\u001b[0;32m      1\u001b[0m \u001b[38;5;66;03m# Посмотрим экстримальные значения Floor\u001b[39;00m\n\u001b[1;32m----> 2\u001b[0m \u001b[43mtrain_data\u001b[49m[train_data[\u001b[38;5;124m'\u001b[39m\u001b[38;5;124mFloor\u001b[39m\u001b[38;5;124m'\u001b[39m] \u001b[38;5;241m<\u001b[39m \u001b[38;5;241m1\u001b[39m]\n",
      "\u001b[1;31mNameError\u001b[0m: name 'train_data' is not defined"
     ]
    }
   ],
   "source": [
    "# Посмотрим экстримальные значения Floor\n",
    "train_data[train_data['Floor'] < 1]"
   ]
  },
  {
   "cell_type": "markdown",
   "id": "848b529c-b36a-4a26-9633-475b6bbd2e1b",
   "metadata": {},
   "source": [
    "**Изменения:**"
   ]
  },
  {
   "cell_type": "code",
   "execution_count": null,
   "id": "47651da7-124d-4487-8c88-33119d7c2782",
   "metadata": {},
   "outputs": [],
   "source": [
    "def random_floor(floor):\n",
    "    '''\n",
    "    Процедура выбора случайной этажности дома для определённой квартиры.\n",
    "\n",
    "    :param floor: этаж на которой расположена квартира,\n",
    "    :return: случайная этажность дома или -1, если такого этажа не может быть.\n",
    "    '''\n",
    "    \n",
    "    # Список с этажносстью домов\n",
    "    house_floor_list = [5, 9, 14, 16, 24, 40, 48]\n",
    "    # Веса выбора этажности (тоесть многоэтажки 40, 48 выпадают реже)\n",
    "    weights = [5, 10, 20, 20, 10, 2, 1]\n",
    "    # Скорректированные веса выбора этажности дома в зависимости от этажа текущей квартиры\n",
    "    weights_corr = [weights[i] if house_floor_list[i] >= floor else 0 for i in range(len(weights))]\n",
    " \n",
    "    if sum(weights_corr):\n",
    "        house_floor = rnd.choices(house_floor_list, weights=weights_corr, k=1)\n",
    "        return house_floor[0]\n",
    "    else:\n",
    "        return -1"
   ]
  },
  {
   "cell_type": "code",
   "execution_count": null,
   "id": "bd02ba62-c108-4e15-aeae-4c6be8e18d9c",
   "metadata": {},
   "outputs": [],
   "source": [
    "# Признаки 'HouseFloor' и 'Floor'\n",
    "# Зададим начальное значение модуля rnd\n",
    "rnd.seed(42)\n",
    "# Заменим ошибочную этажность дома на релевантную \n",
    "train_data['HouseFloor'] = train_data['Floor'].apply(lambda x: random_floor(x))"
   ]
  },
  {
   "cell_type": "code",
   "execution_count": 15,
   "id": "2154dc7f-ba56-46a6-8177-aa843156a969",
   "metadata": {},
   "outputs": [
    {
     "ename": "NameError",
     "evalue": "name 'train_data' is not defined",
     "output_type": "error",
     "traceback": [
      "\u001b[1;31m---------------------------------------------------------------------------\u001b[0m",
      "\u001b[1;31mNameError\u001b[0m                                 Traceback (most recent call last)",
      "Cell \u001b[1;32mIn[15], line 2\u001b[0m\n\u001b[0;32m      1\u001b[0m \u001b[38;5;66;03m# Посмотрим дома этажностью менее 5 и этаж квартиры больше этажности дома\u001b[39;00m\n\u001b[1;32m----> 2\u001b[0m \u001b[43mtrain_data\u001b[49m\u001b[38;5;241m.\u001b[39mquery(\u001b[38;5;124m'\u001b[39m\u001b[38;5;124m(Floor > HouseFloor) | (HouseFloor < 5)\u001b[39m\u001b[38;5;124m'\u001b[39m)\n",
      "\u001b[1;31mNameError\u001b[0m: name 'train_data' is not defined"
     ]
    }
   ],
   "source": [
    "# Посмотрим дома этажностью менее 5 и этаж квартиры больше этажности дома\n",
    "train_data.query('(Floor > HouseFloor) | (HouseFloor < 5)')"
   ]
  },
  {
   "cell_type": "code",
   "execution_count": null,
   "id": "9d499dba-3415-4c37-a591-dcac8f1dedb6",
   "metadata": {},
   "outputs": [],
   "source": [
    "# Посмотрим выбросы после чистки данных\n",
    "print(emission_test(ds=train_data, col_test=['Floor', 'HouseFloor'])[0])"
   ]
  },
  {
   "cell_type": "code",
   "execution_count": 16,
   "id": "fa25ddaf-f87e-4481-a4ce-0690cbb2f333",
   "metadata": {},
   "outputs": [
    {
     "ename": "NameError",
     "evalue": "name 'emission_test' is not defined",
     "output_type": "error",
     "traceback": [
      "\u001b[1;31m---------------------------------------------------------------------------\u001b[0m",
      "\u001b[1;31mNameError\u001b[0m                                 Traceback (most recent call last)",
      "Cell \u001b[1;32mIn[16], line 2\u001b[0m\n\u001b[0;32m      1\u001b[0m \u001b[38;5;66;03m# Сформируем таблицу выбросов для 'Floor' и 'HouseFloor'\u001b[39;00m\n\u001b[1;32m----> 2\u001b[0m outliers \u001b[38;5;241m=\u001b[39m \u001b[43memission_test\u001b[49m(ds\u001b[38;5;241m=\u001b[39mtrain_data, col_test\u001b[38;5;241m=\u001b[39m[\u001b[38;5;124m'\u001b[39m\u001b[38;5;124mFloor\u001b[39m\u001b[38;5;124m'\u001b[39m, \u001b[38;5;124m'\u001b[39m\u001b[38;5;124mHouseFloor\u001b[39m\u001b[38;5;124m'\u001b[39m])[\u001b[38;5;241m1\u001b[39m]\n\u001b[0;32m      3\u001b[0m \u001b[38;5;66;03m# Посмотрим выбросы в Floor после чистки данных\u001b[39;00m\n\u001b[0;32m      4\u001b[0m train_data\u001b[38;5;241m.\u001b[39mloc[viev_outliers(outliers, \u001b[38;5;124m'\u001b[39m\u001b[38;5;124mFloor\u001b[39m\u001b[38;5;124m'\u001b[39m)]\u001b[38;5;241m.\u001b[39msort_values(by\u001b[38;5;241m=\u001b[39m\u001b[38;5;124m'\u001b[39m\u001b[38;5;124mFloor\u001b[39m\u001b[38;5;124m'\u001b[39m)\n",
      "\u001b[1;31mNameError\u001b[0m: name 'emission_test' is not defined"
     ]
    }
   ],
   "source": [
    "# Сформируем таблицу выбросов для 'Floor' и 'HouseFloor'\n",
    "outliers = emission_test(ds=train_data, col_test=['Floor', 'HouseFloor'])[1]\n",
    "# Посмотрим выбросы в Floor после чистки данных\n",
    "train_data.loc[viev_outliers(outliers, 'Floor')].sort_values(by='Floor')"
   ]
  },
  {
   "cell_type": "code",
   "execution_count": 17,
   "id": "8ef592d9-d02a-4e04-ba22-a9cbde7ec82c",
   "metadata": {},
   "outputs": [
    {
     "ename": "NameError",
     "evalue": "name 'train_data' is not defined",
     "output_type": "error",
     "traceback": [
      "\u001b[1;31m---------------------------------------------------------------------------\u001b[0m",
      "\u001b[1;31mNameError\u001b[0m                                 Traceback (most recent call last)",
      "Cell \u001b[1;32mIn[17], line 2\u001b[0m\n\u001b[0;32m      1\u001b[0m \u001b[38;5;66;03m# Посмотрим выбросы в HouseFloor после чистки данных\u001b[39;00m\n\u001b[1;32m----> 2\u001b[0m \u001b[43mtrain_data\u001b[49m\u001b[38;5;241m.\u001b[39mloc[viev_outliers(outliers, \u001b[38;5;124m'\u001b[39m\u001b[38;5;124mHouseFloor\u001b[39m\u001b[38;5;124m'\u001b[39m)]\u001b[38;5;241m.\u001b[39msort_values(by\u001b[38;5;241m=\u001b[39m\u001b[38;5;124m'\u001b[39m\u001b[38;5;124mHouseFloor\u001b[39m\u001b[38;5;124m'\u001b[39m)\n",
      "\u001b[1;31mNameError\u001b[0m: name 'train_data' is not defined"
     ]
    }
   ],
   "source": [
    "# Посмотрим выбросы в HouseFloor после чистки данных\n",
    "train_data.loc[viev_outliers(outliers, 'HouseFloor')].sort_values(by='HouseFloor')"
   ]
  },
  {
   "cell_type": "markdown",
   "id": "5f14a157-6f9c-419e-bf47-9769ad7cb20f",
   "metadata": {},
   "source": [
    "**Вывод:** Заменил не корректную этажность домов."
   ]
  },
  {
   "cell_type": "markdown",
   "id": "c1f64849-51b8-4aa1-93da-92c012c640b9",
   "metadata": {},
   "source": [
    "#### Признак 'Healthcare_1' <a class='anchor' id='healthcare_1'>"
   ]
  },
  {
   "cell_type": "markdown",
   "id": "3f5923e9-fffd-4e29-ac16-d9aa3b7dc726",
   "metadata": {},
   "source": [
    "**Изменения:**"
   ]
  },
  {
   "cell_type": "code",
   "execution_count": null,
   "id": "ef355d23-83d1-4d0f-bdf2-1dfd5d8753bd",
   "metadata": {},
   "outputs": [],
   "source": [
    "# Признак 'Healthcare_1'\n",
    "# В фиче 'Healthcare_1' пропущено 50% записей - этот признак не информативен, удалим его\n",
    "train_data.drop('Healthcare_1', axis=1, inplace=True)"
   ]
  },
  {
   "cell_type": "markdown",
   "id": "8bd67d5a-0de3-4480-9336-0737b06e5f2c",
   "metadata": {},
   "source": [
    "#### Изменим тип признаков <a class='anchor' id='type_f'>"
   ]
  },
  {
   "cell_type": "markdown",
   "id": "dfb327d1-aad4-47f5-a258-0a25ff3b178c",
   "metadata": {},
   "source": [
    "**Изменения:**"
   ]
  },
  {
   "cell_type": "code",
   "execution_count": null,
   "id": "76947247-5539-4873-8110-ce26d91786f0",
   "metadata": {},
   "outputs": [],
   "source": [
    "# Изменим тип признаков\n",
    "le = LabelEncoder()\n",
    "# Пробежимся по столбцам датафрейма и преобразуем буквеное обозначение в цифровое\n",
    "for col in str_cols:\n",
    "    train_data[col] = le.fit_transform(train_data[col].astype(str))"
   ]
  },
  {
   "cell_type": "code",
   "execution_count": null,
   "id": "c692b3bd-47a5-4ed6-acc0-a7f999d8b0ad",
   "metadata": {},
   "outputs": [],
   "source": [
    "train_data.dtypes"
   ]
  },
  {
   "cell_type": "code",
   "execution_count": null,
   "id": "fa071a82-904c-4c2a-83c1-93744f8f8fc8",
   "metadata": {},
   "outputs": [],
   "source": [
    "# Переведём Id квартиры в строковый формат\n",
    "train_data['Id'] = train_data['Id'].astype(str)\n",
    "train_data['Id'].dtypes"
   ]
  },
  {
   "cell_type": "markdown",
   "id": "625da66a-8a2f-4214-b74a-b96e1ddf78db",
   "metadata": {},
   "source": [
    "#### Ещё раз посмотрим скорректированные данные <a class='anchor' id='cor_data'>"
   ]
  },
  {
   "cell_type": "code",
   "execution_count": null,
   "id": "17c41eff-fd75-4b6c-ba93-962beafa97b4",
   "metadata": {},
   "outputs": [],
   "source": [
    "# Разделим числовые и строковые признаки\n",
    "num_cols, str_cols = numeric_and_string_attributes(train_data)\n",
    "# Посмотрим визуально на графики числовых переменных\n",
    "visualization_numerical_characteristics(dop_text='(после чистки данных)')"
   ]
  },
  {
   "cell_type": "markdown",
   "id": "eab6cae5-0f2f-4bca-ad25-6d8e0455d5ba",
   "metadata": {
    "jp-MarkdownHeadingCollapsed": true
   },
   "source": [
    "### Создание класса подготовки данных <a class='anchor' id='create_class'>"
   ]
  },
  {
   "cell_type": "code",
   "execution_count": null,
   "id": "a659fb66-9ecc-44aa-8b53-06c3e5a19d0b",
   "metadata": {},
   "outputs": [],
   "source": [
    "class DataPreprocessing():\n",
    "    '''\n",
    "    Класс 'Подготовки исходных данных'\n",
    "\n",
    "     Атрибуты:\n",
    "    - kitchen_square_median: медиана площади кухни,\n",
    "    - rooms_median: медиана количества комнат,\n",
    "    - house_year_mode: мода года постройки дома.\n",
    "\n",
    "     Методы:\n",
    "    - random_floor(self, floor) -> int:  выбор случайной этажности дома для определённой квартиры,\n",
    "    - numeric_and_string_attributes(self, df): разделяет числовые и строковые признаки,\n",
    "    - fit(self, X): сохраняет медианы и моды, для последующего использования,\n",
    "    - transform (self, X): чистит наш датафрейм (заполняет пропуски, исправляет неточности).\n",
    "\n",
    "     Dunder методы:\n",
    "    - __init__(self): конструктор класса,\n",
    "    '''\n",
    "\n",
    "    def __init__(self):\n",
    "        # Переменные лласса\n",
    "        self.house_year_mode = None\n",
    "        self.kitchen_square_median = None\n",
    "        self.rooms_median = None\n",
    "\n",
    "    @staticmethod\n",
    "    def random_floor(self, floor) -> int:\n",
    "        '''\n",
    "        Процедура выбора случайной этажности дома для определённой квартиры.\n",
    "    \n",
    "        :param floor: этаж на которой расположена квартира,\n",
    "        :return: случайная этажность дома или -1, если такого этажа не может быть.\n",
    "        '''\n",
    "        \n",
    "        # Список с этажносстью домов\n",
    "        house_floor_list = [5, 9, 14, 16, 24, 40, 48]\n",
    "        # Веса выбора этажности (тоесть многоэтажки 40, 48 выпадают реже)\n",
    "        weights = [5, 10, 20, 20, 10, 2, 1]\n",
    "        # Скорректированные веса выбора этажности дома в зависимости от этажа текущей квартиры\n",
    "        weights_corr = [weights[i] if house_floor_list[i] >= floor else 0 for i in range(len(weights))]\n",
    "     \n",
    "        if sum(weights_corr):\n",
    "            house_floor = rnd.choices(house_floor_list, weights=weights_corr, k=1)\n",
    "            return house_floor[0]\n",
    "        else:\n",
    "            return -1\n",
    "\n",
    "    @staticmethod\n",
    "    def numeric_and_string_attributes(self, df):\n",
    "        '''\n",
    "        Функция разделяет числовые и строковые признаки.\n",
    "    \n",
    "        :param df: исследуемый датафрейм,\n",
    "        :return: num_cols - список числовых признаков, str_cols - список строковых признаков.\n",
    "        '''\n",
    "        # Числовые признаки\n",
    "        num_cols = []\n",
    "        # Строковые признаки\n",
    "        str_cols = []\n",
    "        \n",
    "        cols_and_type = df.dtypes.to_dict()\n",
    "        \n",
    "        for col in cols_and_type:\n",
    "            if cols_and_type[col] in ('int64', 'float64'):\n",
    "                num_cols.append(col)\n",
    "            else: \n",
    "                str_cols.append(col)\n",
    "    \n",
    "        return num_cols, str_cols\n",
    "    \n",
    "    def fit(self, X):\n",
    "        '''\n",
    "        Функция сохраняет статистические данные (медиана, мода)\n",
    "\n",
    "        :param X: исследуемый датафрейм.\n",
    "        '''\n",
    "        self.house_year_mode = X['HouseYear'].mode()[0]\n",
    "        self.kitchen_square_median = X['KitchenSquare'].median()\n",
    "        self.rooms_median = X['Rooms'].median()\n",
    "        \n",
    "    \n",
    "    def transform (self, X):\n",
    "        '''\n",
    "        Функция чистит данные.\n",
    "\n",
    "        :param X: исследуемый датафрейм,\n",
    "        :return: возвращает очищенный датафрейм.\n",
    "        '''\n",
    "        # Признак 'HouseYear'\n",
    "        # Заменим все года постройки, которые больше текущего года на моду\n",
    "        X.loc[X['HouseYear'] > datetime.now().year, ['HouseYear']] = self.house_year_mode\n",
    "\n",
    "        \n",
    "        # Признак 'Rooms'\n",
    "        # Создадим индексы строк в которых 5 и более комнат, а их площадь менее 100 или меньше одной комнаты\n",
    "        index_edit = X.query('(((Rooms >= 5) & (Square < 100)) | (Rooms < 1))').index\n",
    "        # Заменим аномальные значения на медиану\n",
    "        X.loc[index_edit, ['Rooms']] = self.rooms_median\n",
    "\n",
    "        \n",
    "        # Признак 'KitchenSquare'\n",
    "        # Заменим все кухни, которые больше 35 квадратов на медиану\n",
    "        X.loc[X['KitchenSquare'] > 35, ['KitchenSquare']] = self.kitchen_square_median\n",
    "\n",
    "\n",
    "        # Признаки 'Square' и 'LifeSquare'\n",
    "        # Чтобы метраж у каждой квартиры, был уникальным - маловероятно. Округлим метраж до целых чисел\n",
    "        X['Square'] = X['Square'].apply(lambda x: round(x, 0))\n",
    "        X['LifeSquare'] = X['LifeSquare'].apply(lambda x: round(x, 0))\n",
    "        # \n",
    "        # Заменим экстримальные значения LifeSquare\n",
    "        X.loc[(X['LifeSquare'] > X['Square'].max()), ['LifeSquare']] = X['Square']\n",
    "        # \n",
    "        # Заменим совсем уж маленькую площадь\n",
    "        X.loc[(X['Square'] < 5), ['Square']] = 5\n",
    "        # \n",
    "        # Заменим не корректные значения Square на LifeSquare + KitchenSquare\n",
    "        X.loc[(X['Square'] < X['LifeSquare']), ['Square']] = X['LifeSquare'] + X['KitchenSquare']\n",
    "        # \n",
    "        # Заменим не корректные значения LifeSquare на Square - KitchenSquare\n",
    "        X.loc[(X['Square'] == X['LifeSquare']), ['LifeSquare']] = X['Square'] - X['KitchenSquare']\n",
    "        # \n",
    "        # Заменим недостающие значения LifeSquare или значения < 20.   LifeSquare = Square - KitchenSquare\n",
    "        X.loc[((X['LifeSquare'].isna()) | (X['LifeSquare'] < 20)), ['LifeSquare']] = X['Square'] - X['KitchenSquare']\n",
    "\n",
    "\n",
    "        # Признаки 'HouseFloor' и 'Floor'\n",
    "        # Зададим начальное значение модуля rnd\n",
    "        rnd.seed(42)\n",
    "        # Заменим ошибочную этажность дома на релевантную \n",
    "        X['HouseFloor'] = X['Floor'].apply(lambda x: self.random_floor(self, x))\n",
    "\n",
    "\n",
    "        # Признак 'Healthcare_1'\n",
    "        # В фиче 'Healthcare_1' пропущено 50% записей - этот признак не информативен, удалим его\n",
    "        X.drop('Healthcare_1', axis=1, inplace=True)\n",
    "\n",
    "        # Разделим числовые и строковые признаки\n",
    "        num_cols, str_cols = self.numeric_and_string_attributes(self, X)\n",
    "\n",
    "        # Изменим тип признаков\n",
    "        le = LabelEncoder()\n",
    "        # Пробежимся по строковым столбцам датафрейма и преобразуем буквеное обозначение в цифровое\n",
    "        for col in  str_cols:\n",
    "            X[col] = le.fit_transform(X[col].astype(str))\n",
    "        # \n",
    "        # Переведём Id квартиры в строковый формат\n",
    "        X['Id'] = X['Id'].astype(str)\n",
    "\n",
    "        return X"
   ]
  },
  {
   "cell_type": "code",
   "execution_count": 18,
   "id": "92623d1f-2a6d-413f-b36c-73aea2c7c674",
   "metadata": {},
   "outputs": [
    {
     "ename": "NameError",
     "evalue": "name 'pd' is not defined",
     "output_type": "error",
     "traceback": [
      "\u001b[1;31m---------------------------------------------------------------------------\u001b[0m",
      "\u001b[1;31mNameError\u001b[0m                                 Traceback (most recent call last)",
      "Cell \u001b[1;32mIn[18], line 3\u001b[0m\n\u001b[0;32m      1\u001b[0m \u001b[38;5;66;03m# Проверим как работает\u001b[39;00m\n\u001b[0;32m      2\u001b[0m \u001b[38;5;66;03m# Читаем csv файл тренировочных данных\u001b[39;00m\n\u001b[1;32m----> 3\u001b[0m train_data_new \u001b[38;5;241m=\u001b[39m \u001b[43mpd\u001b[49m\u001b[38;5;241m.\u001b[39mread_csv(TRAIN_DATA, engine\u001b[38;5;241m=\u001b[39m\u001b[38;5;124m'\u001b[39m\u001b[38;5;124mpython\u001b[39m\u001b[38;5;124m'\u001b[39m, on_bad_lines\u001b[38;5;241m=\u001b[39m\u001b[38;5;124m'\u001b[39m\u001b[38;5;124mskip\u001b[39m\u001b[38;5;124m'\u001b[39m)\n\u001b[0;32m      4\u001b[0m train_data\u001b[38;5;241m.\u001b[39mhead()\n",
      "\u001b[1;31mNameError\u001b[0m: name 'pd' is not defined"
     ]
    }
   ],
   "source": [
    "# Проверим как работает\n",
    "# Читаем csv файл тренировочных данных\n",
    "train_data_new = pd.read_csv(TRAIN_DATA, engine='python', on_bad_lines='skip')\n",
    "train_data.head()"
   ]
  },
  {
   "cell_type": "code",
   "execution_count": null,
   "id": "1ebfafe6-9842-4486-a219-773b4383ae01",
   "metadata": {},
   "outputs": [],
   "source": [
    "# Создадим объект класса\n",
    "dp = DataPreprocessing()\n",
    "# Сохраним стат. данные \n",
    "dp.fit(train_data_new)\n",
    "# Сохраним очищенный датасет\n",
    "proverka = dp.transform(train_data_new)\n",
    "# Сравним два датафрейма (который изменили ранее и изменённый с помощью объекта класса)\n",
    "proverka.equals(train_data)"
   ]
  },
  {
   "cell_type": "markdown",
   "id": "52c33f00-00b3-438e-8151-dd8571a4c720",
   "metadata": {},
   "source": [
    "**Ура!!!** Значит я ничего не упустил в классе. Датафрйм изменённый ранее и датафрейм изменённый с помощью объекта класса, совпадают."
   ]
  },
  {
   "cell_type": "markdown",
   "id": "616a84c2-8791-4bc3-b7af-ccf3fd3ecf46",
   "metadata": {
    "jp-MarkdownHeadingCollapsed": true
   },
   "source": [
    "### Построение новых признаков <a class='anchor' id='new_feature'>"
   ]
  },
  {
   "cell_type": "markdown",
   "id": "0c9032b4-a361-4896-9478-dec507f18e2b",
   "metadata": {},
   "source": [
    "#### DistrictSize, IsDistrictLarge (размеры районов) <a class='anchor' id='district_size'>"
   ]
  },
  {
   "cell_type": "code",
   "execution_count": 19,
   "id": "94725f78-00b6-4ca6-8567-7119679fe935",
   "metadata": {},
   "outputs": [
    {
     "ename": "NameError",
     "evalue": "name 'train_data' is not defined",
     "output_type": "error",
     "traceback": [
      "\u001b[1;31m---------------------------------------------------------------------------\u001b[0m",
      "\u001b[1;31mNameError\u001b[0m                                 Traceback (most recent call last)",
      "Cell \u001b[1;32mIn[19], line 2\u001b[0m\n\u001b[0;32m      1\u001b[0m \u001b[38;5;66;03m# Посмотрим как распределены номера районов\u001b[39;00m\n\u001b[1;32m----> 2\u001b[0m district_size \u001b[38;5;241m=\u001b[39m \u001b[43mtrain_data\u001b[49m[\u001b[38;5;124m'\u001b[39m\u001b[38;5;124mDistrictId\u001b[39m\u001b[38;5;124m'\u001b[39m]\u001b[38;5;241m.\u001b[39mvalue_counts()\u001b[38;5;241m.\u001b[39mreset_index()\u001b[38;5;241m.\u001b[39mrename(columns\u001b[38;5;241m=\u001b[39m{\u001b[38;5;124m'\u001b[39m\u001b[38;5;124mindex\u001b[39m\u001b[38;5;124m'\u001b[39m: \u001b[38;5;124m'\u001b[39m\u001b[38;5;124mDistrictId\u001b[39m\u001b[38;5;124m'\u001b[39m, \u001b[38;5;124m'\u001b[39m\u001b[38;5;124mcount\u001b[39m\u001b[38;5;124m'\u001b[39m: \u001b[38;5;124m'\u001b[39m\u001b[38;5;124mDistrictSize\u001b[39m\u001b[38;5;124m'\u001b[39m})\n\u001b[0;32m      3\u001b[0m district_size\u001b[38;5;241m.\u001b[39mhead()\n",
      "\u001b[1;31mNameError\u001b[0m: name 'train_data' is not defined"
     ]
    }
   ],
   "source": [
    "# Посмотрим как распределены номера районов\n",
    "district_size = train_data['DistrictId'].value_counts().reset_index().rename(columns={'index': 'DistrictId', 'count': 'DistrictSize'})\n",
    "district_size.head()"
   ]
  },
  {
   "cell_type": "code",
   "execution_count": 20,
   "id": "21d6a70e-bd0b-4653-882a-6e390c11a371",
   "metadata": {},
   "outputs": [
    {
     "ename": "NameError",
     "evalue": "name 'train_data' is not defined",
     "output_type": "error",
     "traceback": [
      "\u001b[1;31m---------------------------------------------------------------------------\u001b[0m",
      "\u001b[1;31mNameError\u001b[0m                                 Traceback (most recent call last)",
      "Cell \u001b[1;32mIn[20], line 2\u001b[0m\n\u001b[0;32m      1\u001b[0m \u001b[38;5;66;03m# Добавим 'DistrictSize' к нашему датафрейму\u001b[39;00m\n\u001b[1;32m----> 2\u001b[0m train_data \u001b[38;5;241m=\u001b[39m \u001b[43mtrain_data\u001b[49m\u001b[38;5;241m.\u001b[39mmerge(district_size, on\u001b[38;5;241m=\u001b[39m\u001b[38;5;124m'\u001b[39m\u001b[38;5;124mDistrictId\u001b[39m\u001b[38;5;124m'\u001b[39m, how\u001b[38;5;241m=\u001b[39m\u001b[38;5;124m'\u001b[39m\u001b[38;5;124mleft\u001b[39m\u001b[38;5;124m'\u001b[39m)\n\u001b[0;32m      3\u001b[0m train_data\u001b[38;5;241m.\u001b[39mhead()\n",
      "\u001b[1;31mNameError\u001b[0m: name 'train_data' is not defined"
     ]
    }
   ],
   "source": [
    "# Добавим 'DistrictSize' к нашему датафрейму\n",
    "train_data = train_data.merge(district_size, on='DistrictId', how='left')\n",
    "train_data.head()"
   ]
  },
  {
   "cell_type": "code",
   "execution_count": null,
   "id": "172e80bc-268a-4507-86d8-b0004ce48c10",
   "metadata": {},
   "outputs": [],
   "source": [
    "# Посмотрим как распределяется 'DistrictSize'\n",
    "(train_data['DistrictSize'] > 100).value_counts()"
   ]
  },
  {
   "cell_type": "code",
   "execution_count": 21,
   "id": "08986f07-a6cd-4472-a448-c3a32106fdac",
   "metadata": {},
   "outputs": [
    {
     "ename": "NameError",
     "evalue": "name 'train_data' is not defined",
     "output_type": "error",
     "traceback": [
      "\u001b[1;31m---------------------------------------------------------------------------\u001b[0m",
      "\u001b[1;31mNameError\u001b[0m                                 Traceback (most recent call last)",
      "Cell \u001b[1;32mIn[21], line 2\u001b[0m\n\u001b[0;32m      1\u001b[0m \u001b[38;5;66;03m# Добавим новый признак 'IsDistrictLarge'\u001b[39;00m\n\u001b[1;32m----> 2\u001b[0m train_data[\u001b[38;5;124m'\u001b[39m\u001b[38;5;124mIsDistrictLarge\u001b[39m\u001b[38;5;124m'\u001b[39m] \u001b[38;5;241m=\u001b[39m (\u001b[43mtrain_data\u001b[49m[\u001b[38;5;124m'\u001b[39m\u001b[38;5;124mDistrictSize\u001b[39m\u001b[38;5;124m'\u001b[39m] \u001b[38;5;241m>\u001b[39m \u001b[38;5;241m100\u001b[39m)\u001b[38;5;241m.\u001b[39mastype(\u001b[38;5;28mint\u001b[39m)\n\u001b[0;32m      3\u001b[0m train_data\u001b[38;5;241m.\u001b[39mhead()\n",
      "\u001b[1;31mNameError\u001b[0m: name 'train_data' is not defined"
     ]
    }
   ],
   "source": [
    "# Добавим новый признак 'IsDistrictLarge'\n",
    "train_data['IsDistrictLarge'] = (train_data['DistrictSize'] > 100).astype(int)\n",
    "train_data.head()"
   ]
  },
  {
   "cell_type": "markdown",
   "id": "673cfdb4-5809-4ef6-ae20-005f6087cb36",
   "metadata": {},
   "source": [
    "#### MedPriceDistrict (медиана цены квартиры в зависимости от района и количества комнат) <a class='anchor' id='med_price_district'>"
   ]
  },
  {
   "cell_type": "code",
   "execution_count": 22,
   "id": "f8225f11-220a-4cbf-b0cb-34ad4eac87d4",
   "metadata": {},
   "outputs": [
    {
     "ename": "NameError",
     "evalue": "name 'train_data' is not defined",
     "output_type": "error",
     "traceback": [
      "\u001b[1;31m---------------------------------------------------------------------------\u001b[0m",
      "\u001b[1;31mNameError\u001b[0m                                 Traceback (most recent call last)",
      "Cell \u001b[1;32mIn[22], line 2\u001b[0m\n\u001b[0;32m      1\u001b[0m \u001b[38;5;66;03m# Средняя цена квартиры в зависимости от района и количества комнат\u001b[39;00m\n\u001b[1;32m----> 2\u001b[0m med_price_by_district \u001b[38;5;241m=\u001b[39m \u001b[43mtrain_data\u001b[49m\u001b[38;5;241m.\u001b[39mgroupby([\u001b[38;5;124m'\u001b[39m\u001b[38;5;124mDistrictId\u001b[39m\u001b[38;5;124m'\u001b[39m, \u001b[38;5;124m'\u001b[39m\u001b[38;5;124mRooms\u001b[39m\u001b[38;5;124m'\u001b[39m], as_index\u001b[38;5;241m=\u001b[39m\u001b[38;5;28;01mFalse\u001b[39;00m)\u001b[38;5;241m.\u001b[39magg({\u001b[38;5;124m'\u001b[39m\u001b[38;5;124mPrice\u001b[39m\u001b[38;5;124m'\u001b[39m:\u001b[38;5;124m'\u001b[39m\u001b[38;5;124mmedian\u001b[39m\u001b[38;5;124m'\u001b[39m})\u001b[38;5;241m.\u001b[39mrename(columns\u001b[38;5;241m=\u001b[39m{\u001b[38;5;124m'\u001b[39m\u001b[38;5;124mPrice\u001b[39m\u001b[38;5;124m'\u001b[39m:\u001b[38;5;124m'\u001b[39m\u001b[38;5;124mMedPriceByDistrict\u001b[39m\u001b[38;5;124m'\u001b[39m})  \n\u001b[0;32m      3\u001b[0m med_price_by_district\u001b[38;5;241m.\u001b[39mhead()\n",
      "\u001b[1;31mNameError\u001b[0m: name 'train_data' is not defined"
     ]
    }
   ],
   "source": [
    "# Средняя цена квартиры в зависимости от района и количества комнат\n",
    "med_price_by_district = train_data.groupby(['DistrictId', 'Rooms'], as_index=False).agg({'Price':'median'}).rename(columns={'Price':'MedPriceByDistrict'})  \n",
    "med_price_by_district.head()"
   ]
  },
  {
   "cell_type": "code",
   "execution_count": 23,
   "id": "4f8fc104-3a92-4c31-8c24-1a39af459bb5",
   "metadata": {},
   "outputs": [
    {
     "ename": "NameError",
     "evalue": "name 'train_data' is not defined",
     "output_type": "error",
     "traceback": [
      "\u001b[1;31m---------------------------------------------------------------------------\u001b[0m",
      "\u001b[1;31mNameError\u001b[0m                                 Traceback (most recent call last)",
      "Cell \u001b[1;32mIn[23], line 2\u001b[0m\n\u001b[0;32m      1\u001b[0m \u001b[38;5;66;03m# Добавляем этот признак в датафрейм\u001b[39;00m\n\u001b[1;32m----> 2\u001b[0m train_data \u001b[38;5;241m=\u001b[39m \u001b[43mtrain_data\u001b[49m\u001b[38;5;241m.\u001b[39mmerge(med_price_by_district, on\u001b[38;5;241m=\u001b[39m[\u001b[38;5;124m'\u001b[39m\u001b[38;5;124mDistrictId\u001b[39m\u001b[38;5;124m'\u001b[39m, \u001b[38;5;124m'\u001b[39m\u001b[38;5;124mRooms\u001b[39m\u001b[38;5;124m'\u001b[39m], how\u001b[38;5;241m=\u001b[39m\u001b[38;5;124m'\u001b[39m\u001b[38;5;124mleft\u001b[39m\u001b[38;5;124m'\u001b[39m)\n\u001b[0;32m      3\u001b[0m train_data\u001b[38;5;241m.\u001b[39mhead()\n",
      "\u001b[1;31mNameError\u001b[0m: name 'train_data' is not defined"
     ]
    }
   ],
   "source": [
    "# Добавляем этот признак в датафрейм\n",
    "train_data = train_data.merge(med_price_by_district, on=['DistrictId', 'Rooms'], how='left')\n",
    "train_data.head()"
   ]
  },
  {
   "cell_type": "markdown",
   "id": "a9c17b2d-981a-4508-b976-eaac8da83910",
   "metadata": {},
   "source": [
    "#### MedPriceByFloorYear (средняя цена квартиры в зависимости от этажа и года постройки дома) <a class='anchor' id='med_price_by_floor_year'>"
   ]
  },
  {
   "cell_type": "code",
   "execution_count": null,
   "id": "ae6c772b-16b6-4401-8c69-8391c5652e9f",
   "metadata": {},
   "outputs": [],
   "source": [
    "def floor_to_cat(X):\n",
    "    '''\n",
    "    Функция разбивает квартиры на категории в зависимости от этажа.\n",
    "\n",
    "    :param X: исследуемый датафрейм,\n",
    "    :return: датафрейм с признаком категории этажности.\n",
    "    '''\n",
    "    # Этот код анологичен встроенной функии Pandas pd.cut\n",
    "    # X['floor_cat'] = 0\n",
    "\n",
    "    # X.loc[X['Floor'] <= 3, 'floor_cat'] = 1\n",
    "    # X.loc[X['Floor'] > 3, 'floor_cat'] = 2\n",
    "    # X.loc[X['Floor'] > 5, 'floor_cat'] = 3\n",
    "    # X.loc[X['Floor'] > 9, 'floor_cat'] = 4\n",
    "    # X.loc[X['Floor'] > 15, 'floor_cat'] = 5\n",
    "\n",
    "    # На сколько категорий будем делить: 0-3, 3-5, 5-9, 15-max\n",
    "    bins = [0, 3, 5, 9, 15, X['Floor'].max()]\n",
    "    X['floor_cat'] = pd.cut(X['Floor'], bins=bins, labels=False)\n",
    "    X['floor_cat'].fillna(-1, inplace=True)\n",
    "    \n",
    "    return X"
   ]
  },
  {
   "cell_type": "code",
   "execution_count": null,
   "id": "d572ddf7-f7c2-4cc0-b749-988499cacb03",
   "metadata": {},
   "outputs": [],
   "source": [
    "def year_to_cat(X):\n",
    "    '''\n",
    "    Функция разбивает квартиры на категории в зависимости от года постройки дома.\n",
    "\n",
    "    :param X: исследуемый датафрейм,\n",
    "    :return: датафрейм с признаком категории постройки дома.\n",
    "    '''\n",
    "\n",
    "    # Этот код анологичен встроенной функии Pandas pd.cut\n",
    "    # X['year_cat'] = 0\n",
    "\n",
    "    # X.loc[X['HouseYear'] <= 1941, 'year_cat'] = 1\n",
    "    # X.loc[(X['HouseYear'] > 1941) & (X['HouseYear'] <= 1945), 'year_cat'] = 2\n",
    "    # X.loc[(X['HouseYear'] > 1945) & (X['HouseYear'] <= 1980), 'year_cat'] = 3\n",
    "    # X.loc[(X['HouseYear'] > 1980) & (X['HouseYear'] <= 2000), 'year_cat'] = 4\n",
    "    # X.loc[(X['HouseYear'] > 2000) & (X['HouseYear'] <= 2010), 'year_cat'] = 5\n",
    "    # X.loc[(X['HouseYear'] > 2010), 'year_cat'] = 6\n",
    "\n",
    "    bins = [0, 1941, 1945, 1980, 2000, 2010, X['HouseYear'].max()]\n",
    "    X['year_cat'] = pd.cut(X['HouseYear'], bins=bins, labels=False)\n",
    "    X['year_cat'].fillna(-1, inplace=True)\n",
    "\n",
    "    return X"
   ]
  },
  {
   "cell_type": "code",
   "execution_count": 24,
   "id": "f58ed88f-2beb-4bef-8b10-de10429567e8",
   "metadata": {},
   "outputs": [
    {
     "ename": "NameError",
     "evalue": "name 'year_to_cat' is not defined",
     "output_type": "error",
     "traceback": [
      "\u001b[1;31m---------------------------------------------------------------------------\u001b[0m",
      "\u001b[1;31mNameError\u001b[0m                                 Traceback (most recent call last)",
      "Cell \u001b[1;32mIn[24], line 2\u001b[0m\n\u001b[0;32m      1\u001b[0m \u001b[38;5;66;03m# Создадим дополнительные признаки\u001b[39;00m\n\u001b[1;32m----> 2\u001b[0m train_data \u001b[38;5;241m=\u001b[39m \u001b[43myear_to_cat\u001b[49m(train_data)\n\u001b[0;32m      3\u001b[0m train_data \u001b[38;5;241m=\u001b[39m floor_to_cat(train_data)\n\u001b[0;32m      4\u001b[0m train_data\u001b[38;5;241m.\u001b[39mhead()\n",
      "\u001b[1;31mNameError\u001b[0m: name 'year_to_cat' is not defined"
     ]
    }
   ],
   "source": [
    "# Создадим дополнительные признаки\n",
    "train_data = year_to_cat(train_data)\n",
    "train_data = floor_to_cat(train_data)\n",
    "train_data.head()"
   ]
  },
  {
   "cell_type": "code",
   "execution_count": 25,
   "id": "0979c605-82d2-4efb-ad4c-cd64daa509dd",
   "metadata": {},
   "outputs": [
    {
     "ename": "NameError",
     "evalue": "name 'train_data' is not defined",
     "output_type": "error",
     "traceback": [
      "\u001b[1;31m---------------------------------------------------------------------------\u001b[0m",
      "\u001b[1;31mNameError\u001b[0m                                 Traceback (most recent call last)",
      "Cell \u001b[1;32mIn[25], line 2\u001b[0m\n\u001b[0;32m      1\u001b[0m \u001b[38;5;66;03m# Рассчитаем среднею стоимость по этажам и по году\u001b[39;00m\n\u001b[1;32m----> 2\u001b[0m med_price_by_floor_year \u001b[38;5;241m=\u001b[39m \u001b[43mtrain_data\u001b[49m\u001b[38;5;241m.\u001b[39mgroupby([\u001b[38;5;124m'\u001b[39m\u001b[38;5;124myear_cat\u001b[39m\u001b[38;5;124m'\u001b[39m, \u001b[38;5;124m'\u001b[39m\u001b[38;5;124mfloor_cat\u001b[39m\u001b[38;5;124m'\u001b[39m], as_index\u001b[38;5;241m=\u001b[39m\u001b[38;5;28;01mFalse\u001b[39;00m)\u001b[38;5;241m.\u001b[39magg({\u001b[38;5;124m'\u001b[39m\u001b[38;5;124mPrice\u001b[39m\u001b[38;5;124m'\u001b[39m:\u001b[38;5;124m'\u001b[39m\u001b[38;5;124mmean\u001b[39m\u001b[38;5;124m'\u001b[39m})\u001b[38;5;241m.\u001b[39mrename(columns\u001b[38;5;241m=\u001b[39m{\u001b[38;5;124m'\u001b[39m\u001b[38;5;124mPrice\u001b[39m\u001b[38;5;124m'\u001b[39m:\u001b[38;5;124m'\u001b[39m\u001b[38;5;124mMedPriceByFloorYear\u001b[39m\u001b[38;5;124m'\u001b[39m})\n\u001b[0;32m      3\u001b[0m med_price_by_floor_year\u001b[38;5;241m.\u001b[39mhead()\n",
      "\u001b[1;31mNameError\u001b[0m: name 'train_data' is not defined"
     ]
    }
   ],
   "source": [
    "# Рассчитаем среднею стоимость по этажам и по году\n",
    "med_price_by_floor_year = train_data.groupby(['year_cat', 'floor_cat'], as_index=False).agg({'Price':'mean'}).rename(columns={'Price':'MedPriceByFloorYear'})\n",
    "med_price_by_floor_year.head()"
   ]
  },
  {
   "cell_type": "code",
   "execution_count": 26,
   "id": "295ffd02-2d24-4275-9421-6efb3229acb2",
   "metadata": {},
   "outputs": [
    {
     "ename": "NameError",
     "evalue": "name 'train_data' is not defined",
     "output_type": "error",
     "traceback": [
      "\u001b[1;31m---------------------------------------------------------------------------\u001b[0m",
      "\u001b[1;31mNameError\u001b[0m                                 Traceback (most recent call last)",
      "Cell \u001b[1;32mIn[26], line 2\u001b[0m\n\u001b[0;32m      1\u001b[0m \u001b[38;5;66;03m# Добавим новый признак в датафрейм\u001b[39;00m\n\u001b[1;32m----> 2\u001b[0m train_data \u001b[38;5;241m=\u001b[39m \u001b[43mtrain_data\u001b[49m\u001b[38;5;241m.\u001b[39mmerge(med_price_by_floor_year, on\u001b[38;5;241m=\u001b[39m[\u001b[38;5;124m'\u001b[39m\u001b[38;5;124myear_cat\u001b[39m\u001b[38;5;124m'\u001b[39m,\u001b[38;5;124m'\u001b[39m\u001b[38;5;124mfloor_cat\u001b[39m\u001b[38;5;124m'\u001b[39m], how\u001b[38;5;241m=\u001b[39m\u001b[38;5;124m'\u001b[39m\u001b[38;5;124mleft\u001b[39m\u001b[38;5;124m'\u001b[39m)\n\u001b[0;32m      3\u001b[0m train_data\u001b[38;5;241m.\u001b[39mhead()\n",
      "\u001b[1;31mNameError\u001b[0m: name 'train_data' is not defined"
     ]
    }
   ],
   "source": [
    "# Добавим новый признак в датафрейм\n",
    "train_data = train_data.merge(med_price_by_floor_year, on=['year_cat','floor_cat'], how='left')\n",
    "train_data.head()"
   ]
  },
  {
   "cell_type": "markdown",
   "id": "9cd9b467-bbc0-47a0-b1c5-7302d8a26815",
   "metadata": {},
   "source": [
    "### Создание класса новых признаков <a class='anchor' id='create_class_2'>"
   ]
  },
  {
   "cell_type": "code",
   "execution_count": null,
   "id": "1ef7a26d-5ad6-4624-b86e-f5648b1608b4",
   "metadata": {},
   "outputs": [],
   "source": [
    "class FeatureGenerator():\n",
    "    '''\n",
    "    Класс 'Генерации новых фич'\n",
    "\n",
    "     Атрибуты:\n",
    "    - house_year_max: максимальный год постройки дома,\n",
    "    - floor_max: максимальное число комнат,\n",
    "    - med_price_by_district: средняя цена квартиры в зависимости от района и количества комнат,\n",
    "    - med_price_by_floor_year: средняя стоимость по этажам и по году постройки дома.\n",
    "\n",
    "     Методы:\n",
    "    - fit(self, X): сохраняет макс. значения и другие параметры, для последующего использования,\n",
    "    - transform (self, X): добавляет новые фичи в датафрейм.\n",
    "\n",
    "     Dunder методы:\n",
    "    - __init__(self): конструктор класса,\n",
    "    '''\n",
    "\n",
    "    def __init__(self):\n",
    "        # Переменные лласса\n",
    "        self.house_year_max = None\n",
    "        self.floor_max = None\n",
    "        self.med_price_by_district = None\n",
    "        self.med_price_by_floor_year = None\n",
    "        \n",
    "    \n",
    "    def fit(self, X):\n",
    "        '''\n",
    "        Функция сохраняет необходимые данные.\n",
    "\n",
    "        :param X: исследуемый датафрейм.\n",
    "        '''\n",
    "        self.house_year_max = X['HouseYear'].max()\n",
    "        self.floor_max = X['Floor'].max()\n",
    "        \n",
    "    \n",
    "    def transform (self, X):\n",
    "        '''\n",
    "        Функция добавляет новые фичи.\n",
    "\n",
    "        :param X: исследуемый датафрейм,\n",
    "        :return: возвращает датафрейм с новыми фичами.\n",
    "        '''\n",
    "        x = X.copy()\n",
    "\n",
    "        # Посмотрим как распределены номера районов\n",
    "        district_size = x['DistrictId'].value_counts().reset_index().rename(columns={'index': 'DistrictId', 'count': 'DistrictSize'})\n",
    "        # Добавим 'DistrictSize' к нашему датафрейму\n",
    "        x = x.merge(district_size, on='DistrictId', how='left')\n",
    "        \n",
    "        # Добавим новый признак 'IsDistrictLarge'\n",
    "        x['IsDistrictLarge'] = (x['DistrictSize'] > 100).astype(int)\n",
    "\n",
    "        if self.med_price_by_district is None:\n",
    "            # Средняя цена квартиры в зависимости от района и количества комнат\n",
    "            self.med_price_by_district = x.groupby(['DistrictId', 'Rooms'], as_index=False).agg({'Price':'median'}).rename(columns={'Price':'MedPriceByDistrict'})  \n",
    "        # Добавляем этот признак в датафрейм\n",
    "        x = x.merge(self.med_price_by_district, on=['DistrictId', 'Rooms'], how='left')\n",
    "\n",
    "        # Категории постройки дома (год)\n",
    "        bins = [0, 1941, 1945, 1980, 2000, 2010, self.house_year_max]\n",
    "        x['year_cat'] = pd.cut(x['HouseYear'], bins=bins, labels=False)\n",
    "        x['year_cat'].fillna(-1, inplace=True)\n",
    "\n",
    "        # На сколько категорий будем делить этажность дома: 0-3, 3-5, 5-9, 15-max\n",
    "        bins = [0, 3, 5, 9, 15, self.floor_max]\n",
    "        x['floor_cat'] = pd.cut(x['Floor'], bins=bins, labels=False)\n",
    "        x['floor_cat'].fillna(-1, inplace=True)\n",
    "\n",
    "        if self.med_price_by_floor_year is None:\n",
    "            # Рассчитаем среднею стоимость по этажам и по году\n",
    "            self.med_price_by_floor_year = x.groupby(['year_cat', 'floor_cat'], as_index=False).agg({'Price':'mean'}).rename(columns={'Price':'MedPriceByFloorYear'})\n",
    "        # Добавим новый признак в датафрейм\n",
    "        x = x.merge(self.med_price_by_floor_year, on=['year_cat','floor_cat'], how='left')\n",
    "        \n",
    "        return x"
   ]
  },
  {
   "cell_type": "code",
   "execution_count": 27,
   "id": "c2e94b55-a748-41f7-b4ce-c89c328a44e7",
   "metadata": {},
   "outputs": [
    {
     "ename": "NameError",
     "evalue": "name 'pd' is not defined",
     "output_type": "error",
     "traceback": [
      "\u001b[1;31m---------------------------------------------------------------------------\u001b[0m",
      "\u001b[1;31mNameError\u001b[0m                                 Traceback (most recent call last)",
      "Cell \u001b[1;32mIn[27], line 3\u001b[0m\n\u001b[0;32m      1\u001b[0m \u001b[38;5;66;03m# Проверим как работает\u001b[39;00m\n\u001b[0;32m      2\u001b[0m \u001b[38;5;66;03m# Читаем csv файл тренировочных данных\u001b[39;00m\n\u001b[1;32m----> 3\u001b[0m train_data_new \u001b[38;5;241m=\u001b[39m \u001b[43mpd\u001b[49m\u001b[38;5;241m.\u001b[39mread_csv(TRAIN_DATA, engine\u001b[38;5;241m=\u001b[39m\u001b[38;5;124m'\u001b[39m\u001b[38;5;124mpython\u001b[39m\u001b[38;5;124m'\u001b[39m, on_bad_lines\u001b[38;5;241m=\u001b[39m\u001b[38;5;124m'\u001b[39m\u001b[38;5;124mskip\u001b[39m\u001b[38;5;124m'\u001b[39m)\n\u001b[0;32m      4\u001b[0m train_data\u001b[38;5;241m.\u001b[39mhead()\n",
      "\u001b[1;31mNameError\u001b[0m: name 'pd' is not defined"
     ]
    }
   ],
   "source": [
    "# Проверим как работает\n",
    "# Читаем csv файл тренировочных данных\n",
    "train_data_new = pd.read_csv(TRAIN_DATA, engine='python', on_bad_lines='skip')\n",
    "train_data.head()"
   ]
  },
  {
   "cell_type": "code",
   "execution_count": null,
   "id": "c1ce9c0e-75fa-4727-b513-4bf2a486a3c7",
   "metadata": {},
   "outputs": [],
   "source": [
    "# Создадим объект класса\n",
    "dp = DataPreprocessing()\n",
    "# Сохраним стат. данные \n",
    "dp.fit(train_data_new)\n",
    "# Сохраним очищенный датасет\n",
    "proverka = dp.transform(train_data_new)\n",
    "\n",
    "# Создадим объект класса\n",
    "fg = FeatureGenerator()\n",
    "# Сохраним стат. данные \n",
    "fg.fit(proverka)\n",
    "# Сгенерим дополнительные фичи\n",
    "proverka = fg.transform(proverka)\n",
    "# Сравним два датафрейма (который изменили ранее и изменённый с помощью объекта класса)\n",
    "proverka.equals(train_data)"
   ]
  },
  {
   "cell_type": "markdown",
   "id": "c9176242-10f7-4d7e-8115-849a5b08259e",
   "metadata": {},
   "source": [
    "**Ура!!!** Значит я ничего не упустил в классе. Датафрйм изменённый ранее и датафрейм с новыми фичами, изменённый с помощью объекта класса, совпадают."
   ]
  },
  {
   "cell_type": "markdown",
   "id": "89c56a01-efc6-4be6-a714-f825676f78d6",
   "metadata": {},
   "source": [
    "### Создание модели <a class='anchor' id='create_model'>"
   ]
  },
  {
   "cell_type": "markdown",
   "id": "2d0d8554-359f-40a0-a0c8-6800866496bd",
   "metadata": {},
   "source": [
    "#### Проверим модель без генерации новых фич <a class='anchor' id='model_1'>"
   ]
  },
  {
   "cell_type": "code",
   "execution_count": null,
   "id": "6eb422c3-c180-4e8e-adcf-add4bae197f1",
   "metadata": {},
   "outputs": [],
   "source": [
    "# Читаем csv файл тренировочных данных\n",
    "train_data = pd.read_csv(TRAIN_DATA, engine='python', on_bad_lines='skip')\n",
    "# Читаем csv файл тестовых данных\n",
    "test_data = pd.read_csv(TEST_DATA, engine='python', on_bad_lines='skip')\n",
    "\n",
    "# Создадим объект класса\n",
    "dp = DataPreprocessing()\n",
    "# Сохраним стат. данные \n",
    "dp.fit(train_data)\n",
    "# Сохраним очищенный датасет (train)\n",
    "X = dp.transform(train_data)\n",
    "# Сохраним очищенный датасет (test)\n",
    "test_data = dp.transform(test_data)\n",
    "\n",
    "# Создадим целевую переменную (таргет)\n",
    "y = X['Price']\n",
    "# Удалим таргет из тренировочных данных\n",
    "X_not_price = X.drop('Price', axis=1)"
   ]
  },
  {
   "cell_type": "code",
   "execution_count": null,
   "id": "95519d90-2132-4934-b37b-5d33a84ec95b",
   "metadata": {},
   "outputs": [],
   "source": [
    "# Разобьём выборку на тренировочную (70%) и валидную (30%)\n",
    "X_train, X_valid, y_train, y_valid = train_test_split(X_not_price, y, test_size=0.3, random_state=42)"
   ]
  },
  {
   "cell_type": "code",
   "execution_count": null,
   "id": "f332e45a-9d8f-49b7-87d0-3313f634dfb6",
   "metadata": {},
   "outputs": [],
   "source": [
    "# Посмотрим размерность датафремов\n",
    "(X_train.shape, X_valid.shape, test_data.shape)"
   ]
  },
  {
   "cell_type": "code",
   "execution_count": null,
   "id": "3316214b-2fa7-4e58-a323-cbbe8ea0923b",
   "metadata": {},
   "outputs": [],
   "source": [
    "# Создадим модель с количеством деревьев в лесу 2000, с максимальной глубиной залегания дерева 21 (эти параметры подобрал с помощью GridSearchCV)\n",
    "rf_model = RandomForestRegressor(n_estimators=2000, max_depth=21, random_state=42, criterion='squared_error')"
   ]
  },
  {
   "cell_type": "code",
   "execution_count": 28,
   "id": "6b19afd5-0569-4459-9d29-a35b751e82b9",
   "metadata": {},
   "outputs": [
    {
     "ename": "NameError",
     "evalue": "name 'rf_model' is not defined",
     "output_type": "error",
     "traceback": [
      "\u001b[1;31m---------------------------------------------------------------------------\u001b[0m",
      "\u001b[1;31mNameError\u001b[0m                                 Traceback (most recent call last)",
      "File \u001b[1;32m<timed eval>:2\u001b[0m\n",
      "\u001b[1;31mNameError\u001b[0m: name 'rf_model' is not defined"
     ]
    }
   ],
   "source": [
    "%%time\n",
    "# Обучим модель\n",
    "rf_model.fit(X_train, y_train) "
   ]
  },
  {
   "cell_type": "code",
   "execution_count": 29,
   "id": "26f4ff55-ae1c-48cd-8d55-986baee07b5b",
   "metadata": {},
   "outputs": [
    {
     "ename": "NameError",
     "evalue": "name 'cross_validate' is not defined",
     "output_type": "error",
     "traceback": [
      "\u001b[1;31m---------------------------------------------------------------------------\u001b[0m",
      "\u001b[1;31mNameError\u001b[0m                                 Traceback (most recent call last)",
      "File \u001b[1;32m<timed exec>:2\u001b[0m\n",
      "\u001b[1;31mNameError\u001b[0m: name 'cross_validate' is not defined"
     ]
    }
   ],
   "source": [
    "%%time\n",
    "# Выполним обучение модели с кросс-валидацией\n",
    "cv = cross_validate(rf_model, X_train, y_train, scoring='r2', cv=KFold(n_splits=3, shuffle=True))"
   ]
  },
  {
   "cell_type": "code",
   "execution_count": 30,
   "id": "66404147-a26f-434b-a134-1b041df5c304",
   "metadata": {},
   "outputs": [
    {
     "ename": "NameError",
     "evalue": "name 'cv' is not defined",
     "output_type": "error",
     "traceback": [
      "\u001b[1;31m---------------------------------------------------------------------------\u001b[0m",
      "\u001b[1;31mNameError\u001b[0m                                 Traceback (most recent call last)",
      "Cell \u001b[1;32mIn[30], line 2\u001b[0m\n\u001b[0;32m      1\u001b[0m \u001b[38;5;66;03m# Средняя эффективность по метрике r2\u001b[39;00m\n\u001b[1;32m----> 2\u001b[0m \u001b[38;5;28mprint\u001b[39m(\u001b[38;5;124mf\u001b[39m\u001b[38;5;124m'\u001b[39m\u001b[38;5;124mСредняя эффективность по метрике r2: \u001b[39m\u001b[38;5;132;01m{\u001b[39;00m\u001b[43mcv\u001b[49m[\u001b[38;5;124m'\u001b[39m\u001b[38;5;124mtest_score\u001b[39m\u001b[38;5;124m'\u001b[39m]\u001b[38;5;241m.\u001b[39mmean()\u001b[38;5;132;01m}\u001b[39;00m\u001b[38;5;124m'\u001b[39m)\n",
      "\u001b[1;31mNameError\u001b[0m: name 'cv' is not defined"
     ]
    }
   ],
   "source": [
    "# Средняя эффективность по метрике r2\n",
    "print(f'Средняя эффективность по метрике r2: {cv['test_score'].mean()}')"
   ]
  },
  {
   "cell_type": "code",
   "execution_count": null,
   "id": "07eebfe4-9d32-489d-9988-36038f3d994d",
   "metadata": {},
   "outputs": [],
   "source": [
    "# Задаем размер фигуры\n",
    "plt.rcParams['figure.figsize'] = 6, 4\n",
    "# Задаём данные для отрисовки\n",
    "plt.barh(X_train.keys().tolist(), np.sort(rf_model.feature_importances_))\n",
    "# Подписываем оси\n",
    "plt.xlabel(\"Важность признака\")\n",
    "plt.ylabel(\"Признак\")\n",
    "\n",
    "plt.show()"
   ]
  },
  {
   "cell_type": "markdown",
   "id": "64114bbf-dbab-43a5-8e3a-6b8b782d5b45",
   "metadata": {},
   "source": [
    "Оценим точность модели на данных, которые она не видела (X_valid, y_valid)"
   ]
  },
  {
   "cell_type": "code",
   "execution_count": null,
   "id": "baafe9ff-eefb-4eef-9c93-bafe41a8ba6b",
   "metadata": {},
   "outputs": [],
   "source": [
    "# Выполним предикт\n",
    "y_pred = rf_model.predict(X_valid)\n",
    "# Посмотрим эффективность модели по метрике r2\n",
    "print(f'Эффективность модели по метрике r2: {r2_score(y_valid, y_pred)}')"
   ]
  },
  {
   "cell_type": "markdown",
   "id": "afe5f4c5-d056-4d01-a1d0-4fed8e5d0936",
   "metadata": {},
   "source": [
    "#### Проверим модель с генерацией новых фич <a class='anchor' id='model_2'>"
   ]
  },
  {
   "cell_type": "code",
   "execution_count": null,
   "id": "ab15d71b-94fa-4f2b-be23-61e5db12ce6d",
   "metadata": {},
   "outputs": [],
   "source": [
    "# Создадим объект класса\n",
    "fg = FeatureGenerator()\n",
    "# Сохраним стат. данные \n",
    "fg.fit(X)\n",
    "# Сгенерим дополнительные фичи (train)\n",
    "X_new_features = fg.transform(X)\n",
    "# Удалим таргет из тренировочных данных\n",
    "X_new_features = X_new_features.drop('Price', axis=1)\n",
    "# Сгенерим дополнительные фичи (test)\n",
    "test_data = fg.transform(test_data)\n",
    "\n",
    "# Посмотрим, что получилось \n",
    "X_new_features.head()"
   ]
  },
  {
   "cell_type": "code",
   "execution_count": null,
   "id": "a740053b-e206-40fe-9d5f-8d9e35fd44ba",
   "metadata": {},
   "outputs": [],
   "source": [
    "# Разобьём выборку на тренировочную (70%) и валидную (30%)\n",
    "X_train, X_valid, y_train, y_valid = train_test_split(X_new_features, y, test_size=0.3, random_state=42)"
   ]
  },
  {
   "cell_type": "code",
   "execution_count": null,
   "id": "86ce7150-406d-47bf-9cf1-1fea503111c3",
   "metadata": {},
   "outputs": [],
   "source": [
    "# Посмотрим размерность датафремов\n",
    "(X_train.shape, X_valid.shape, test_data.shape)"
   ]
  },
  {
   "cell_type": "code",
   "execution_count": null,
   "id": "8148c0ab-f32e-4cb5-ab6a-47b2628cd1a9",
   "metadata": {},
   "outputs": [],
   "source": [
    "# Создадим модель с количеством деревьев в лесу 2000, с максимальной глубиной залегания дерева 21 (эти параметры подобрал с помощью GridSearchCV)\n",
    "rf_model_new_features = RandomForestRegressor(n_estimators=2000, max_depth=21, random_state=42, criterion='squared_error')"
   ]
  },
  {
   "cell_type": "code",
   "execution_count": null,
   "id": "402e5ea5-b255-46ff-9bf4-0c3e6182a2fe",
   "metadata": {},
   "outputs": [],
   "source": [
    "%%time\n",
    "# Обучим модель\n",
    "rf_model_new_features.fit(X_train, y_train)"
   ]
  },
  {
   "cell_type": "code",
   "execution_count": null,
   "id": "adf55ef3-8cc4-4e55-83a5-2f2b1a8e5352",
   "metadata": {},
   "outputs": [],
   "source": [
    "%%time\n",
    "# Выполним обучение модели с кросс-валидацией\n",
    "cv = cross_validate(rf_model_new_features, X_train, y_train, scoring='r2', cv=KFold(n_splits=3, shuffle=True))"
   ]
  },
  {
   "cell_type": "code",
   "execution_count": null,
   "id": "ccb9430a-a31d-4772-a8d0-dafaaa509768",
   "metadata": {},
   "outputs": [],
   "source": [
    "# Средняя эффективность по метрике r2\n",
    "print(f'Средняя эффективность по метрике r2: {cv['test_score'].mean()}')"
   ]
  },
  {
   "cell_type": "code",
   "execution_count": null,
   "id": "7d3e5523-babb-4236-8039-32db51951208",
   "metadata": {},
   "outputs": [],
   "source": [
    "# Задаем размер фигуры\n",
    "plt.rcParams['figure.figsize'] = 7, 6\n",
    "# Задаём данные для отрисовки\n",
    "plt.barh(X_train.keys().tolist(), np.sort(rf_model_new_features.feature_importances_))\n",
    "# Подписываем оси\n",
    "plt.xlabel(\"Важность признака\")\n",
    "plt.ylabel(\"Признак\")\n",
    "\n",
    "plt.show()"
   ]
  },
  {
   "cell_type": "markdown",
   "id": "d4fbbc14-2734-456c-871e-d99502cb6f78",
   "metadata": {},
   "source": [
    "Оценим точность модели на данных, которые она не видела (X_valid, y_valid)"
   ]
  },
  {
   "cell_type": "code",
   "execution_count": null,
   "id": "8a3bfbea-889e-4ce1-9038-7d8ae5417858",
   "metadata": {},
   "outputs": [],
   "source": [
    "# Выполним предикт\n",
    "y_pred = rf_model_new_features.predict(X_valid)\n",
    "# Посмотрим эффективность модели по метрике r2\n",
    "print(f'Эффективность модели по метрике r2: {r2_score(y_valid, y_pred)}')"
   ]
  },
  {
   "cell_type": "markdown",
   "id": "1c4b58ff-d150-470d-a8d7-2624030830ae",
   "metadata": {},
   "source": [
    "### Прогнозирование на тестовом датасете <a class='anchor' id='prognoz'>"
   ]
  },
  {
   "cell_type": "code",
   "execution_count": null,
   "id": "f7ec1192-f581-4d8b-b37f-9aeee83f73a4",
   "metadata": {},
   "outputs": [],
   "source": [
    "# Посмотрим размерность датасета\n",
    "test_data.shape"
   ]
  },
  {
   "cell_type": "code",
   "execution_count": null,
   "id": "6740da75-9609-4d2a-841a-46890714eaef",
   "metadata": {},
   "outputs": [],
   "source": [
    "# Выполняем предикт\n",
    "predictions = rf_model_new_features.predict(test_data)\n",
    "predictions"
   ]
  },
  {
   "cell_type": "code",
   "execution_count": 31,
   "id": "7290e05b-7556-49cf-8337-cb4c57f0cad1",
   "metadata": {},
   "outputs": [
    {
     "ename": "NameError",
     "evalue": "name 'pd' is not defined",
     "output_type": "error",
     "traceback": [
      "\u001b[1;31m---------------------------------------------------------------------------\u001b[0m",
      "\u001b[1;31mNameError\u001b[0m                                 Traceback (most recent call last)",
      "Cell \u001b[1;32mIn[31], line 2\u001b[0m\n\u001b[0;32m      1\u001b[0m \u001b[38;5;66;03m# Запишем в датасет Id и Price\u001b[39;00m\n\u001b[1;32m----> 2\u001b[0m df_predict \u001b[38;5;241m=\u001b[39m \u001b[43mpd\u001b[49m\u001b[38;5;241m.\u001b[39mDataFrame()\n\u001b[0;32m      3\u001b[0m df_predict[\u001b[38;5;124m'\u001b[39m\u001b[38;5;124mId\u001b[39m\u001b[38;5;124m'\u001b[39m] \u001b[38;5;241m=\u001b[39m test_data[\u001b[38;5;124m'\u001b[39m\u001b[38;5;124mId\u001b[39m\u001b[38;5;124m'\u001b[39m]\n\u001b[0;32m      4\u001b[0m df_predict[\u001b[38;5;124m'\u001b[39m\u001b[38;5;124mPrice\u001b[39m\u001b[38;5;124m'\u001b[39m] \u001b[38;5;241m=\u001b[39m predictions\n",
      "\u001b[1;31mNameError\u001b[0m: name 'pd' is not defined"
     ]
    }
   ],
   "source": [
    "# Запишем в датасет Id и Price\n",
    "df_predict = pd.DataFrame()\n",
    "df_predict['Id'] = test_data['Id']\n",
    "df_predict['Price'] = predictions\n",
    "\n",
    "# Посмотрим, что получилось\n",
    "df_predict.head()"
   ]
  },
  {
   "cell_type": "code",
   "execution_count": null,
   "id": "415b7622-b025-455e-bf57-c40d84519bfa",
   "metadata": {},
   "outputs": [],
   "source": [
    "# Запишем в CSV файл\n",
    "df_predict.to_csv('./predict.csv', encoding='utf-8')"
   ]
  },
  {
   "cell_type": "markdown",
   "id": "5dddc146-e714-4773-9f6f-1f904900a35e",
   "metadata": {},
   "source": [
    "### Вывод: <a class='anchor' id='vivod'>\n",
    "Точность модели по метрике `r2`, на датасете без генерации дополнительных фич составила `71%`, на датасете с генерацией дополнительных фич составила `74%`. Общее время выполнения всего ноутбука составило `8,5` минут, по сколько я обучал две модели (с дополнительными фичами и без них), плюс еще кросс-валидация на этих моделях, чтобы посмотреть их реальную эффективность. \n",
    "\r\n",
    "От себя замечу, что конечно нужны консультации с риэлтором, который знает все тонкости о квартирах. Возможно есть выбросы, которые я не посчитал выбросами.\r\n"
   ]
  }
 ],
 "metadata": {
  "kernelspec": {
   "display_name": "Python 3 (ipykernel)",
   "language": "python",
   "name": "python3"
  },
  "language_info": {
   "codemirror_mode": {
    "name": "ipython",
    "version": 3
   },
   "file_extension": ".py",
   "mimetype": "text/x-python",
   "name": "python",
   "nbconvert_exporter": "python",
   "pygments_lexer": "ipython3",
   "version": "3.12.4"
  }
 },
 "nbformat": 4,
 "nbformat_minor": 5
}
